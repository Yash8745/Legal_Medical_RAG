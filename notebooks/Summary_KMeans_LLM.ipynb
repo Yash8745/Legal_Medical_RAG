{
 "cells": [
  {
   "cell_type": "code",
   "execution_count": 13,
   "metadata": {},
   "outputs": [
    {
     "data": {
      "text/html": [
       "<pre style=\"white-space:pre;overflow-x:auto;line-height:normal;font-family:Menlo,'DejaVu Sans Mono',consolas,'Courier New',monospace\">File <span style=\"color: #008080; text-decoration-color: #008080; font-weight: bold\">1</span> exists\n",
       "</pre>\n"
      ],
      "text/plain": [
       "File \u001b[1;36m1\u001b[0m exists\n"
      ]
     },
     "metadata": {},
     "output_type": "display_data"
    },
    {
     "data": {
      "text/html": [
       "<pre style=\"white-space:pre;overflow-x:auto;line-height:normal;font-family:Menlo,'DejaVu Sans Mono',consolas,'Courier New',monospace\">File <span style=\"color: #008080; text-decoration-color: #008080; font-weight: bold\">2</span> exists\n",
       "</pre>\n"
      ],
      "text/plain": [
       "File \u001b[1;36m2\u001b[0m exists\n"
      ]
     },
     "metadata": {},
     "output_type": "display_data"
    }
   ],
   "source": [
    "from rich import print\n",
    "# print(\"help\")\n",
    "\n",
    "import os\n",
    "import sys\n",
    "\n",
    "FILE_PATH='../data/raw/(2) 2022-06-02 to 2023-05-02- Upright Athlete PT recs (Bates Stamped).pdf'\n",
    "FILE_PATH_2='../data/raw/(3) 2023-05-23 to 2023-10-17- Duke recs (Bates Stamped) (1).pdf'\n",
    "\n",
    "#check if file path is correct\n",
    "if os.path.exists(FILE_PATH):\n",
    "    print(\"File 1 exists\")\n",
    "else:\n",
    "    print(\"File does not exist\")\n",
    "    sys.exit(1)\n",
    "if os.path.exists(FILE_PATH_2):\n",
    "    print(\"File 2 exists\")\n",
    "else:\n",
    "    print(\"File 2 does not exist\")\n",
    "    sys.exit(1)"
   ]
  },
  {
   "cell_type": "code",
   "execution_count": 10,
   "metadata": {},
   "outputs": [
    {
     "data": {
      "text/html": [
       "<pre style=\"white-space:pre;overflow-x:auto;line-height:normal;font-family:Menlo,'DejaVu Sans Mono',consolas,'Courier New',monospace\">Here is a concise summary of the physical therapy report:\n",
       "\n",
       "**Patient Information:**\n",
       "\n",
       "* Name: Mark Chandler\n",
       "* Date of injury/surgery: Not specified\n",
       "* Diagnosis: L shoulder pain, R foot drop\n",
       "\n",
       "**Current Status:**\n",
       "\n",
       "* Reports of continued L shoulder soreness, managed with ice\n",
       "* Moderate deficits in SL balance, requiring multiple rest breaks\n",
       "* Good progress in strength of DF and eversion, but requires skilled therapy to continue making gains\n",
       "\n",
       "**Goals:**\n",
       "\n",
       "* Independent with home exercise program in <span style=\"color: #008080; text-decoration-color: #008080; font-weight: bold\">2</span> weeks\n",
       "* Pain-free L GH with flexion to <span style=\"color: #008080; text-decoration-color: #008080; font-weight: bold\">90</span>° to hold front of rifle in <span style=\"color: #008080; text-decoration-color: #008080; font-weight: bold\">10</span> weeks\n",
       "* Improved L GH ER for functional usage of LUE in <span style=\"color: #008080; text-decoration-color: #008080; font-weight: bold\">10</span> weeks\n",
       "* Report &lt; <span style=\"color: #008080; text-decoration-color: #008080; font-weight: bold\">2</span>/<span style=\"color: #008080; text-decoration-color: #008080; font-weight: bold\">10</span> pain with all activities in <span style=\"color: #008080; text-decoration-color: #008080; font-weight: bold\">6</span> weeks\n",
       "* Return to full participation in walking without cane\n",
       "\n",
       "**Treatment Plan:**\n",
       "\n",
       "* Monitor for response to treatment and adjust plan as needed\n",
       "* Increase treatment intensity over time as tolerated\n",
       "* Move towards independent self-management via HEP\n",
       "* Recommended follow-up: <span style=\"color: #008080; text-decoration-color: #008080; font-weight: bold\">2</span> visits per week for <span style=\"color: #008080; text-decoration-color: #008080; font-weight: bold\">6</span> weeks, then <span style=\"color: #008080; text-decoration-color: #008080; font-weight: bold\">1</span> visit per week for <span style=\"color: #008080; text-decoration-color: #008080; font-weight: bold\">8</span> weeks\n",
       "\n",
       "**Interventions:**\n",
       "\n",
       "* Therapeutic exercise <span style=\"font-weight: bold\">(</span>e.g. seated shoulder flexion, standing shoulder scaption<span style=\"font-weight: bold\">)</span>\n",
       "* Neuromuscular re-education <span style=\"font-weight: bold\">(</span>e.g. rhythmic stabilization, supine serratus punch<span style=\"font-weight: bold\">)</span>\n",
       "* Manual therapy <span style=\"font-weight: bold\">(</span>e.g. scapular mobilizations, manual ankle DF/inv/eversion isometrics<span style=\"font-weight: bold\">)</span>\n",
       "* Patient education and self-management techniques\n",
       "</pre>\n"
      ],
      "text/plain": [
       "Here is a concise summary of the physical therapy report:\n",
       "\n",
       "**Patient Information:**\n",
       "\n",
       "* Name: Mark Chandler\n",
       "* Date of injury/surgery: Not specified\n",
       "* Diagnosis: L shoulder pain, R foot drop\n",
       "\n",
       "**Current Status:**\n",
       "\n",
       "* Reports of continued L shoulder soreness, managed with ice\n",
       "* Moderate deficits in SL balance, requiring multiple rest breaks\n",
       "* Good progress in strength of DF and eversion, but requires skilled therapy to continue making gains\n",
       "\n",
       "**Goals:**\n",
       "\n",
       "* Independent with home exercise program in \u001b[1;36m2\u001b[0m weeks\n",
       "* Pain-free L GH with flexion to \u001b[1;36m90\u001b[0m° to hold front of rifle in \u001b[1;36m10\u001b[0m weeks\n",
       "* Improved L GH ER for functional usage of LUE in \u001b[1;36m10\u001b[0m weeks\n",
       "* Report < \u001b[1;36m2\u001b[0m/\u001b[1;36m10\u001b[0m pain with all activities in \u001b[1;36m6\u001b[0m weeks\n",
       "* Return to full participation in walking without cane\n",
       "\n",
       "**Treatment Plan:**\n",
       "\n",
       "* Monitor for response to treatment and adjust plan as needed\n",
       "* Increase treatment intensity over time as tolerated\n",
       "* Move towards independent self-management via HEP\n",
       "* Recommended follow-up: \u001b[1;36m2\u001b[0m visits per week for \u001b[1;36m6\u001b[0m weeks, then \u001b[1;36m1\u001b[0m visit per week for \u001b[1;36m8\u001b[0m weeks\n",
       "\n",
       "**Interventions:**\n",
       "\n",
       "* Therapeutic exercise \u001b[1m(\u001b[0me.g. seated shoulder flexion, standing shoulder scaption\u001b[1m)\u001b[0m\n",
       "* Neuromuscular re-education \u001b[1m(\u001b[0me.g. rhythmic stabilization, supine serratus punch\u001b[1m)\u001b[0m\n",
       "* Manual therapy \u001b[1m(\u001b[0me.g. scapular mobilizations, manual ankle DF/inv/eversion isometrics\u001b[1m)\u001b[0m\n",
       "* Patient education and self-management techniques\n"
      ]
     },
     "metadata": {},
     "output_type": "display_data"
    }
   ],
   "source": [
    "from langchain_groq import ChatGroq\n",
    "from langchain.text_splitter import RecursiveCharacterTextSplitter\n",
    "from langchain.document_loaders import PyPDFLoader\n",
    "from langchain.chains.summarize import load_summarize_chain\n",
    "from langchain.document_transformers import EmbeddingsClusteringFilter\n",
    "from langchain.embeddings import HuggingFaceBgeEmbeddings\n",
    "\n",
    "def extract(file_path):\n",
    "    loader = PyPDFLoader(file_path)\n",
    "    pages = loader.load()\n",
    "    text_splitter = RecursiveCharacterTextSplitter(\n",
    "        chunk_size=2000, chunk_overlap=0\n",
    "    )\n",
    "    texts = text_splitter.split_documents(pages)\n",
    "    return texts\n",
    "\n",
    "\n",
    "def summarize_document_with_kmeans_clustering(file, llm, embeddings):\n",
    "    filter = EmbeddingsClusteringFilter(embeddings=embeddings, num_clusters=10)\n",
    "\n",
    "    texts = extract(file)\n",
    "\n",
    "    try:\n",
    "        result = filter.transform_documents(documents=texts)\n",
    "        checker_chain = load_summarize_chain(llm ,chain_type=\"stuff\")\n",
    "        summary = checker_chain.run(result)\n",
    "        return summary\n",
    "    except Exception as e:\n",
    "        return str(e)\n",
    "    \n",
    "\n",
    "model_name = \"BAAI/bge-base-en-v1.5\"\n",
    "model_kwargs = {\"device\": \"cuda\"} # CUDA for GPU support\n",
    "encode_kwargs = {\"normalize_embeddings\": True}\n",
    "\n",
    "embeddings = HuggingFaceBgeEmbeddings(\n",
    "    model_name=model_name,\n",
    "    # model_kwargs=model_kwargs,\n",
    "    encode_kwargs=encode_kwargs\n",
    ")\n",
    "\n",
    "llm = ChatGroq(model=\"llama3-8b-8192\")\n",
    "\n",
    "print(summarize_document_with_kmeans_clustering(FILE_PATH, llm, embeddings))"
   ]
  },
  {
   "cell_type": "code",
   "execution_count": 14,
   "metadata": {},
   "outputs": [
    {
     "data": {
      "text/html": [
       "<pre style=\"white-space:pre;overflow-x:auto;line-height:normal;font-family:Menlo,'DejaVu Sans Mono',consolas,'Courier New',monospace\">Here is a concise summary of the physical therapy report:\n",
       "\n",
       "**Patient Information:**\n",
       "Mark Chandler, age unknown, diagnosed with L shoulder pain, R foot drop, and injury to R peroneal nerve.\n",
       "\n",
       "**Current Status:**\n",
       "The patient completed the 6th outpatient physical therapy visit. He reported soreness after the last visit but \n",
       "managed it with ice. He showed moderate deficits in single-leg balance and required multiple rest breaks due to \n",
       "muscular fatigue.\n",
       "\n",
       "**Goals:**\n",
       "\n",
       "<span style=\"color: #008080; text-decoration-color: #008080; font-weight: bold\">1</span>. Independent with home exercise program in <span style=\"color: #008080; text-decoration-color: #008080; font-weight: bold\">2</span> weeks\n",
       "<span style=\"color: #008080; text-decoration-color: #008080; font-weight: bold\">2</span>. Pain-free L shoulder flexion and abduction in <span style=\"color: #008080; text-decoration-color: #008080; font-weight: bold\">10</span> weeks\n",
       "<span style=\"color: #008080; text-decoration-color: #008080; font-weight: bold\">3</span>. Improved L shoulder ER and functional usage in <span style=\"color: #008080; text-decoration-color: #008080; font-weight: bold\">10</span> weeks\n",
       "<span style=\"color: #008080; text-decoration-color: #008080; font-weight: bold\">4</span>. Report &lt; <span style=\"color: #008080; text-decoration-color: #008080; font-weight: bold\">2</span>/<span style=\"color: #008080; text-decoration-color: #008080; font-weight: bold\">10</span> pain with all activities in <span style=\"color: #008080; text-decoration-color: #008080; font-weight: bold\">6</span> weeks\n",
       "<span style=\"color: #008080; text-decoration-color: #008080; font-weight: bold\">5</span>. Return to desired sport and/or recreational activities without pain or limitation in <span style=\"color: #008080; text-decoration-color: #008080; font-weight: bold\">12</span> weeks\n",
       "\n",
       "**Plan:**\n",
       "The patient will continue to receive physical therapy <span style=\"color: #008080; text-decoration-color: #008080; font-weight: bold\">2</span>-<span style=\"color: #008080; text-decoration-color: #008080; font-weight: bold\">3</span> times a week for <span style=\"color: #008080; text-decoration-color: #008080; font-weight: bold\">6</span>-<span style=\"color: #008080; text-decoration-color: #008080; font-weight: bold\">12</span> weeks, focusing on therapeutic \n",
       "exercises, neuromuscular re-education, manual therapy, gait training, and patient education. The goal is to improve\n",
       "strength, flexibility, and functional ability, and to reduce pain and disability.\n",
       "</pre>\n"
      ],
      "text/plain": [
       "Here is a concise summary of the physical therapy report:\n",
       "\n",
       "**Patient Information:**\n",
       "Mark Chandler, age unknown, diagnosed with L shoulder pain, R foot drop, and injury to R peroneal nerve.\n",
       "\n",
       "**Current Status:**\n",
       "The patient completed the 6th outpatient physical therapy visit. He reported soreness after the last visit but \n",
       "managed it with ice. He showed moderate deficits in single-leg balance and required multiple rest breaks due to \n",
       "muscular fatigue.\n",
       "\n",
       "**Goals:**\n",
       "\n",
       "\u001b[1;36m1\u001b[0m. Independent with home exercise program in \u001b[1;36m2\u001b[0m weeks\n",
       "\u001b[1;36m2\u001b[0m. Pain-free L shoulder flexion and abduction in \u001b[1;36m10\u001b[0m weeks\n",
       "\u001b[1;36m3\u001b[0m. Improved L shoulder ER and functional usage in \u001b[1;36m10\u001b[0m weeks\n",
       "\u001b[1;36m4\u001b[0m. Report < \u001b[1;36m2\u001b[0m/\u001b[1;36m10\u001b[0m pain with all activities in \u001b[1;36m6\u001b[0m weeks\n",
       "\u001b[1;36m5\u001b[0m. Return to desired sport and/or recreational activities without pain or limitation in \u001b[1;36m12\u001b[0m weeks\n",
       "\n",
       "**Plan:**\n",
       "The patient will continue to receive physical therapy \u001b[1;36m2\u001b[0m-\u001b[1;36m3\u001b[0m times a week for \u001b[1;36m6\u001b[0m-\u001b[1;36m12\u001b[0m weeks, focusing on therapeutic \n",
       "exercises, neuromuscular re-education, manual therapy, gait training, and patient education. The goal is to improve\n",
       "strength, flexibility, and functional ability, and to reduce pain and disability.\n"
      ]
     },
     "metadata": {},
     "output_type": "display_data"
    }
   ],
   "source": [
    "from langchain_groq import ChatGroq\n",
    "from langchain.text_splitter import RecursiveCharacterTextSplitter\n",
    "from langchain.document_loaders import PyPDFLoader\n",
    "from langchain.chains.summarize import load_summarize_chain\n",
    "from langchain.document_transformers import EmbeddingsClusteringFilter\n",
    "from langchain.embeddings import HuggingFaceBgeEmbeddings\n",
    "\n",
    "def extract(file_path):\n",
    "    loader = PyPDFLoader(file_path)\n",
    "    pages = loader.load()\n",
    "    text_splitter = RecursiveCharacterTextSplitter(\n",
    "        chunk_size=2000, chunk_overlap=0\n",
    "    )\n",
    "    texts = text_splitter.split_documents(pages)\n",
    "    return texts\n",
    "\n",
    "\n",
    "def summarize_document_with_kmeans_clustering(file, llm, embeddings):\n",
    "    filter = EmbeddingsClusteringFilter(embeddings=embeddings, num_clusters=10)\n",
    "\n",
    "    texts = extract(file)\n",
    "\n",
    "    try:\n",
    "        result = filter.transform_documents(documents=texts)\n",
    "        checker_chain = load_summarize_chain(llm ,chain_type=\"stuff\")\n",
    "        summary = checker_chain.run(result)\n",
    "        return summary\n",
    "    except Exception as e:\n",
    "        return str(e)\n",
    "    \n",
    "\n",
    "model_name = \"BAAI/bge-base-en-v1.5\"\n",
    "model_kwargs = {\"device\": \"cuda\"} # CUDA for GPU support\n",
    "encode_kwargs = {\"normalize_embeddings\": True}\n",
    "\n",
    "embeddings = HuggingFaceBgeEmbeddings(\n",
    "    model_name=model_name,\n",
    "    # model_kwargs=model_kwargs,\n",
    "    encode_kwargs=encode_kwargs\n",
    ")\n",
    "\n",
    "llm = ChatGroq(model=\"llama3-8b-8192\")\n",
    "\n",
    "print(summarize_document_with_kmeans_clustering(FILE_PATH, llm, embeddings))"
   ]
  },
  {
   "cell_type": "code",
   "execution_count": null,
   "metadata": {},
   "outputs": [],
   "source": []
  }
 ],
 "metadata": {
  "kernelspec": {
   "display_name": "legal_env",
   "language": "python",
   "name": "python3"
  },
  "language_info": {
   "codemirror_mode": {
    "name": "ipython",
    "version": 3
   },
   "file_extension": ".py",
   "mimetype": "text/x-python",
   "name": "python",
   "nbconvert_exporter": "python",
   "pygments_lexer": "ipython3",
   "version": "3.10.16"
  }
 },
 "nbformat": 4,
 "nbformat_minor": 2
}
