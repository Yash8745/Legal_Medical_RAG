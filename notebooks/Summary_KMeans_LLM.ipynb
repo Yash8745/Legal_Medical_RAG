{
 "cells": [
  {
   "cell_type": "code",
   "execution_count": 1,
   "metadata": {},
   "outputs": [
    {
     "data": {
      "text/html": [
       "<pre style=\"white-space:pre;overflow-x:auto;line-height:normal;font-family:Menlo,'DejaVu Sans Mono',consolas,'Courier New',monospace\">File <span style=\"color: #008080; text-decoration-color: #008080; font-weight: bold\">1</span> exists\n",
       "</pre>\n"
      ],
      "text/plain": [
       "File \u001b[1;36m1\u001b[0m exists\n"
      ]
     },
     "metadata": {},
     "output_type": "display_data"
    },
    {
     "data": {
      "text/html": [
       "<pre style=\"white-space:pre;overflow-x:auto;line-height:normal;font-family:Menlo,'DejaVu Sans Mono',consolas,'Courier New',monospace\">File <span style=\"color: #008080; text-decoration-color: #008080; font-weight: bold\">2</span> does not exist\n",
       "</pre>\n"
      ],
      "text/plain": [
       "File \u001b[1;36m2\u001b[0m does not exist\n"
      ]
     },
     "metadata": {},
     "output_type": "display_data"
    },
    {
     "ename": "SystemExit",
     "evalue": "1",
     "output_type": "error",
     "traceback": [
      "An exception has occurred, use %tb to see the full traceback.\n",
      "\u001b[1;31mSystemExit\u001b[0m\u001b[1;31m:\u001b[0m 1\n"
     ]
    },
    {
     "name": "stderr",
     "output_type": "stream",
     "text": [
      "C:\\Users\\naran\\AppData\\Roaming\\Python\\Python310\\site-packages\\IPython\\core\\interactiveshell.py:3441: UserWarning: To exit: use 'exit', 'quit', or Ctrl-D.\n",
      "  warn(\"To exit: use 'exit', 'quit', or Ctrl-D.\", stacklevel=1)\n"
     ]
    }
   ],
   "source": [
    "from rich import print\n",
    "# print(\"help\")\n",
    "\n",
    "import os\n",
    "import sys\n",
    "\n",
    "FILE_PATH='../data/raw/(2) 2022-06-02 to 2023-05-02- Upright Athlete PT recs (Bates Stamped).pdf'\n",
    "FILE_PATH_2='../data/raw/(3) 2023-05-23 to 2023-10-17- Duke recs (Bates Stamped) (1).pdf'\n",
    "\n",
    "#check if file path is correct\n",
    "if os.path.exists(FILE_PATH):\n",
    "    print(\"File 1 exists\")\n",
    "else:\n",
    "    print(\"File does not exist\")\n",
    "    sys.exit(1)\n",
    "if os.path.exists(FILE_PATH_2):\n",
    "    print(\"File 2 exists\")\n",
    "else:\n",
    "    print(\"File 2 does not exist\")\n",
    "    sys.exit(1)"
   ]
  },
  {
   "cell_type": "code",
   "execution_count": 3,
   "metadata": {},
   "outputs": [
    {
     "name": "stderr",
     "output_type": "stream",
     "text": [
      "C:\\Users\\naran\\AppData\\Local\\Temp\\ipykernel_20460\\4114372626.py:26: LangChainDeprecationWarning: The method `Chain.run` was deprecated in langchain 0.1.0 and will be removed in 1.0. Use :meth:`~invoke` instead.\n",
      "  summary = checker_chain.run(result)\n"
     ]
    },
    {
     "data": {
      "text/html": [
       "<pre style=\"white-space:pre;overflow-x:auto;line-height:normal;font-family:Menlo,'DejaVu Sans Mono',consolas,'Courier New',monospace\">Here is the refined summary:\n",
       "\n",
       "M. Chandler-<span style=\"color: #008080; text-decoration-color: #008080; font-weight: bold\">013465</span> is a patient undergoing physical therapy to address deficits in single-leg balance, hip \n",
       "abduction strength, and gait, as well as left shoulder soreness and numbness around the incision site. The patient \n",
       "has made progress in ankle stability, with an improvement in single-leg stance time on the left side. The treatment\n",
       "plan includes therapeutic exercise, neuromuscular re-education, manual therapy, gait training, therapeutic \n",
       "activity, patient education, and self-management techniques.\n",
       "\n",
       "The patient's goals include independence with a home exercise program, improved gait, increased hip abduction \n",
       "strength, and reduced pain. The patient's long-term goal is to return to full participation in walking without a \n",
       "cane, and a specific intervention has been added to the plan of care to improve hip abduction strength, which will \n",
       "be monitored and addressed over the next <span style=\"color: #008080; text-decoration-color: #008080; font-weight: bold\">6</span> weeks.\n",
       "\n",
       "The patient's current functional ability is reflected in their FADI score of <span style=\"color: #008080; text-decoration-color: #008080; font-weight: bold\">68</span>/<span style=\"color: #008080; text-decoration-color: #008080; font-weight: bold\">104</span> or <span style=\"color: #008080; text-decoration-color: #008080; font-weight: bold\">65</span>%. The patient's physical \n",
       "therapy plan will focus on addressing the nerve damage and related deficits in ankle strength and function. The \n",
       "patient will attend physical therapy sessions twice a week for <span style=\"color: #008080; text-decoration-color: #008080; font-weight: bold\">6</span> weeks to achieve this goal.\n",
       "\n",
       "Recent interventions have included graded joint mobilizations to the left glenohumeral joint, scapular \n",
       "mobilizations and AAROM, manual isometrics and eccentrics for ankle dorsiflexion, inversion, and eversion, and deep\n",
       "neuromuscular stimulation to the left thoracic paraspinals. The patient has reported decreased left shoulder pain \n",
       "since their last visit and has demonstrated good tolerance to left shoulder PROM. The patient will continue to \n",
       "benefit from physical therapy to allow for return to pre-injury level of function and achievement of their stated \n",
       "goals.\n",
       "</pre>\n"
      ],
      "text/plain": [
       "Here is the refined summary:\n",
       "\n",
       "M. Chandler-\u001b[1;36m013465\u001b[0m is a patient undergoing physical therapy to address deficits in single-leg balance, hip \n",
       "abduction strength, and gait, as well as left shoulder soreness and numbness around the incision site. The patient \n",
       "has made progress in ankle stability, with an improvement in single-leg stance time on the left side. The treatment\n",
       "plan includes therapeutic exercise, neuromuscular re-education, manual therapy, gait training, therapeutic \n",
       "activity, patient education, and self-management techniques.\n",
       "\n",
       "The patient's goals include independence with a home exercise program, improved gait, increased hip abduction \n",
       "strength, and reduced pain. The patient's long-term goal is to return to full participation in walking without a \n",
       "cane, and a specific intervention has been added to the plan of care to improve hip abduction strength, which will \n",
       "be monitored and addressed over the next \u001b[1;36m6\u001b[0m weeks.\n",
       "\n",
       "The patient's current functional ability is reflected in their FADI score of \u001b[1;36m68\u001b[0m/\u001b[1;36m104\u001b[0m or \u001b[1;36m65\u001b[0m%. The patient's physical \n",
       "therapy plan will focus on addressing the nerve damage and related deficits in ankle strength and function. The \n",
       "patient will attend physical therapy sessions twice a week for \u001b[1;36m6\u001b[0m weeks to achieve this goal.\n",
       "\n",
       "Recent interventions have included graded joint mobilizations to the left glenohumeral joint, scapular \n",
       "mobilizations and AAROM, manual isometrics and eccentrics for ankle dorsiflexion, inversion, and eversion, and deep\n",
       "neuromuscular stimulation to the left thoracic paraspinals. The patient has reported decreased left shoulder pain \n",
       "since their last visit and has demonstrated good tolerance to left shoulder PROM. The patient will continue to \n",
       "benefit from physical therapy to allow for return to pre-injury level of function and achievement of their stated \n",
       "goals.\n"
      ]
     },
     "metadata": {},
     "output_type": "display_data"
    }
   ],
   "source": [
    "from langchain_groq import ChatGroq\n",
    "from langchain.text_splitter import RecursiveCharacterTextSplitter\n",
    "from langchain.document_loaders import PyPDFLoader\n",
    "from langchain.chains.summarize import load_summarize_chain\n",
    "from langchain.document_transformers import EmbeddingsClusteringFilter\n",
    "from langchain.embeddings import HuggingFaceBgeEmbeddings\n",
    "\n",
    "def extract(file_path):\n",
    "    loader = PyPDFLoader(file_path)\n",
    "    pages = loader.load()\n",
    "    text_splitter = RecursiveCharacterTextSplitter(\n",
    "        chunk_size=2000, chunk_overlap=0\n",
    "    )\n",
    "    texts = text_splitter.split_documents(pages)\n",
    "    return texts\n",
    "\n",
    "\n",
    "def summarize_document_with_kmeans_clustering(file, llm, embeddings):\n",
    "    filter = EmbeddingsClusteringFilter(embeddings=embeddings, num_clusters=10)\n",
    "\n",
    "    texts = extract(file)\n",
    "\n",
    "    try:\n",
    "        result = filter.transform_documents(documents=texts)\n",
    "        checker_chain = load_summarize_chain(llm ,chain_type=\"refine\")\n",
    "        summary = checker_chain.run(result)\n",
    "        return summary\n",
    "    except Exception as e:\n",
    "        return str(e)\n",
    "    \n",
    "\n",
    "model_name = \"BAAI/bge-base-en-v1.5\"\n",
    "model_kwargs = {\"device\": \"cuda\"} # CUDA for GPU support\n",
    "encode_kwargs = {\"normalize_embeddings\": True}\n",
    "\n",
    "embeddings = HuggingFaceBgeEmbeddings(\n",
    "    model_name=model_name,\n",
    "    # model_kwargs=model_kwargs,\n",
    "    encode_kwargs=encode_kwargs\n",
    ")\n",
    "\n",
    "llm = ChatGroq(model=\"llama3-8b-8192\")\n",
    "\n",
    "print(summarize_document_with_kmeans_clustering(FILE_PATH, llm, embeddings))"
   ]
  },
  {
   "cell_type": "code",
   "execution_count": 14,
   "metadata": {},
   "outputs": [
    {
     "data": {
      "text/html": [
       "<pre style=\"white-space:pre;overflow-x:auto;line-height:normal;font-family:Menlo,'DejaVu Sans Mono',consolas,'Courier New',monospace\">Here is a concise summary of the physical therapy report:\n",
       "\n",
       "**Patient Information:**\n",
       "Mark Chandler, age unknown, diagnosed with L shoulder pain, R foot drop, and injury to R peroneal nerve.\n",
       "\n",
       "**Current Status:**\n",
       "The patient completed the 6th outpatient physical therapy visit. He reported soreness after the last visit but \n",
       "managed it with ice. He showed moderate deficits in single-leg balance and required multiple rest breaks due to \n",
       "muscular fatigue.\n",
       "\n",
       "**Goals:**\n",
       "\n",
       "<span style=\"color: #008080; text-decoration-color: #008080; font-weight: bold\">1</span>. Independent with home exercise program in <span style=\"color: #008080; text-decoration-color: #008080; font-weight: bold\">2</span> weeks\n",
       "<span style=\"color: #008080; text-decoration-color: #008080; font-weight: bold\">2</span>. Pain-free L shoulder flexion and abduction in <span style=\"color: #008080; text-decoration-color: #008080; font-weight: bold\">10</span> weeks\n",
       "<span style=\"color: #008080; text-decoration-color: #008080; font-weight: bold\">3</span>. Improved L shoulder ER and functional usage in <span style=\"color: #008080; text-decoration-color: #008080; font-weight: bold\">10</span> weeks\n",
       "<span style=\"color: #008080; text-decoration-color: #008080; font-weight: bold\">4</span>. Report &lt; <span style=\"color: #008080; text-decoration-color: #008080; font-weight: bold\">2</span>/<span style=\"color: #008080; text-decoration-color: #008080; font-weight: bold\">10</span> pain with all activities in <span style=\"color: #008080; text-decoration-color: #008080; font-weight: bold\">6</span> weeks\n",
       "<span style=\"color: #008080; text-decoration-color: #008080; font-weight: bold\">5</span>. Return to desired sport and/or recreational activities without pain or limitation in <span style=\"color: #008080; text-decoration-color: #008080; font-weight: bold\">12</span> weeks\n",
       "\n",
       "**Plan:**\n",
       "The patient will continue to receive physical therapy <span style=\"color: #008080; text-decoration-color: #008080; font-weight: bold\">2</span>-<span style=\"color: #008080; text-decoration-color: #008080; font-weight: bold\">3</span> times a week for <span style=\"color: #008080; text-decoration-color: #008080; font-weight: bold\">6</span>-<span style=\"color: #008080; text-decoration-color: #008080; font-weight: bold\">12</span> weeks, focusing on therapeutic \n",
       "exercises, neuromuscular re-education, manual therapy, gait training, and patient education. The goal is to improve\n",
       "strength, flexibility, and functional ability, and to reduce pain and disability.\n",
       "</pre>\n"
      ],
      "text/plain": [
       "Here is a concise summary of the physical therapy report:\n",
       "\n",
       "**Patient Information:**\n",
       "Mark Chandler, age unknown, diagnosed with L shoulder pain, R foot drop, and injury to R peroneal nerve.\n",
       "\n",
       "**Current Status:**\n",
       "The patient completed the 6th outpatient physical therapy visit. He reported soreness after the last visit but \n",
       "managed it with ice. He showed moderate deficits in single-leg balance and required multiple rest breaks due to \n",
       "muscular fatigue.\n",
       "\n",
       "**Goals:**\n",
       "\n",
       "\u001b[1;36m1\u001b[0m. Independent with home exercise program in \u001b[1;36m2\u001b[0m weeks\n",
       "\u001b[1;36m2\u001b[0m. Pain-free L shoulder flexion and abduction in \u001b[1;36m10\u001b[0m weeks\n",
       "\u001b[1;36m3\u001b[0m. Improved L shoulder ER and functional usage in \u001b[1;36m10\u001b[0m weeks\n",
       "\u001b[1;36m4\u001b[0m. Report < \u001b[1;36m2\u001b[0m/\u001b[1;36m10\u001b[0m pain with all activities in \u001b[1;36m6\u001b[0m weeks\n",
       "\u001b[1;36m5\u001b[0m. Return to desired sport and/or recreational activities without pain or limitation in \u001b[1;36m12\u001b[0m weeks\n",
       "\n",
       "**Plan:**\n",
       "The patient will continue to receive physical therapy \u001b[1;36m2\u001b[0m-\u001b[1;36m3\u001b[0m times a week for \u001b[1;36m6\u001b[0m-\u001b[1;36m12\u001b[0m weeks, focusing on therapeutic \n",
       "exercises, neuromuscular re-education, manual therapy, gait training, and patient education. The goal is to improve\n",
       "strength, flexibility, and functional ability, and to reduce pain and disability.\n"
      ]
     },
     "metadata": {},
     "output_type": "display_data"
    }
   ],
   "source": [
    "from langchain_groq import ChatGroq\n",
    "from langchain.text_splitter import RecursiveCharacterTextSplitter\n",
    "from langchain.document_loaders import PyPDFLoader\n",
    "from langchain.chains.summarize import load_summarize_chain\n",
    "from langchain.document_transformers import EmbeddingsClusteringFilter\n",
    "from langchain.embeddings import HuggingFaceBgeEmbeddings\n",
    "\n",
    "def extract(file_path):\n",
    "    loader = PyPDFLoader(file_path)\n",
    "    pages = loader.load()\n",
    "    text_splitter = RecursiveCharacterTextSplitter(\n",
    "        chunk_size=2000, chunk_overlap=0\n",
    "    )\n",
    "    texts = text_splitter.split_documents(pages)\n",
    "    return texts\n",
    "\n",
    "\n",
    "def summarize_document_with_kmeans_clustering(file, llm, embeddings):\n",
    "    filter = EmbeddingsClusteringFilter(embeddings=embeddings, num_clusters=10)\n",
    "\n",
    "    texts = extract(file)\n",
    "\n",
    "    try:\n",
    "        result = filter.transform_documents(documents=texts)\n",
    "        checker_chain = load_summarize_chain(llm ,chain_type=\"stuff\")\n",
    "        summary = checker_chain.run(result)\n",
    "        return summary\n",
    "    except Exception as e:\n",
    "        return str(e)\n",
    "    \n",
    "\n",
    "model_name = \"BAAI/bge-base-en-v1.5\"\n",
    "model_kwargs = {\"device\": \"cuda\"} # CUDA for GPU support\n",
    "encode_kwargs = {\"normalize_embeddings\": True}\n",
    "\n",
    "embeddings = HuggingFaceBgeEmbeddings(\n",
    "    model_name=model_name,\n",
    "    # model_kwargs=model_kwargs,\n",
    "    encode_kwargs=encode_kwargs\n",
    ")\n",
    "\n",
    "llm = ChatGroq(model=\"llama3-8b-8192\")\n",
    "\n",
    "print(summarize_document_with_kmeans_clustering(FILE_PATH, llm, embeddings))"
   ]
  },
  {
   "cell_type": "code",
   "execution_count": null,
   "metadata": {},
   "outputs": [],
   "source": []
  }
 ],
 "metadata": {
  "kernelspec": {
   "display_name": "legal_env",
   "language": "python",
   "name": "python3"
  },
  "language_info": {
   "codemirror_mode": {
    "name": "ipython",
    "version": 3
   },
   "file_extension": ".py",
   "mimetype": "text/x-python",
   "name": "python",
   "nbconvert_exporter": "python",
   "pygments_lexer": "ipython3",
   "version": "3.10.16"
  }
 },
 "nbformat": 4,
 "nbformat_minor": 2
}
