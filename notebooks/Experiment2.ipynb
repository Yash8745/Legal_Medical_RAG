{
 "cells": [
  {
   "cell_type": "markdown",
   "metadata": {
    "vscode": {
     "languageId": "plaintext"
    }
   },
   "source": [
    "# In this notebook I will Try to connect the rag model for pdf ingestion and use pinecone as vector database\n"
   ]
  },
  {
   "cell_type": "code",
   "execution_count": 2,
   "metadata": {},
   "outputs": [],
   "source": [
    "# We will be using these PDF loaders but you can check out other loaded documents\n",
    "from langchain_community.document_loaders import PyMuPDFLoader\n",
    "from langchain_community.document_loaders import UnstructuredPDFLoader\n",
    "from rich import print\n",
    "import re\n",
    "from transformers import AutoTokenizer\n",
    "from dotenv import load_dotenv\n",
    "import os\n",
    "from pinecone import Pinecone, ServerlessSpec\n",
    "from uuid import uuid4\n",
    "\n",
    "os.environ[\"PINECONE_API_KEY\"] = os.getenv(\"PINECONE_API_KEY\")\n",
    "\n",
    "load_dotenv()\n",
    "\n",
    "EMBEDDING_MODEL = \"sentence-transformers/paraphrase-MiniLM-L6-v2\"\n",
    "\n",
    "# This is the name of the report which should be in the directory\n",
    "# You can download the precise PDF I am using from here https://www.pc.gov.pk/uploads/archives/PSDP_2023-24.pdf\n",
    "\n",
    "name = '../data/raw/Easy_recipes.pdf'\n",
    "\n",
    "# This loader uses PyMuPDF\n",
    "loader_py = PyMuPDFLoader(name)\n",
    "\n",
    "# Storing the loaded documents as langChain Document object\n",
    "pages_py = loader_py.load()\n"
   ]
  },
  {
   "cell_type": "code",
   "execution_count": 3,
   "metadata": {},
   "outputs": [
    {
     "data": {
      "text/html": [
       "<pre style=\"white-space:pre;overflow-x:auto;line-height:normal;font-family:Menlo,'DejaVu Sans Mono',consolas,'Courier New',monospace\">Quick     and     easy    recipes         \n",
       "          \n",
       "Start     cooking         today!          \n",
       "You       can     do      it!     \n",
       "          \n",
       "Cooking   meals   is      much    cheaper         than    eating          outside.        This    is      true    \n",
       "everywhere      \n",
       "but       even    more    in      Geneva<span style=\"color: #808000; text-decoration-color: #808000\">...</span>       Take    turns   and     cook    for     your    roommate        \n",
       "and     your    \n",
       "friends!          You’ll          save    even    more    money   –       and     the     kitchen         will    \n",
       "probably        stay    \n",
       "cleaner<span style=\"color: #808000; text-decoration-color: #808000\">...</span>        \n",
       "          \n",
       "I         have    selected        only    a       few     recipes         from    these   websites:       \n",
       "<span style=\"color: #0000ff; text-decoration-color: #0000ff; text-decoration: underline\">http://www.studentrecipes.com/</span>    \n",
       "<span style=\"color: #0000ff; text-decoration-color: #0000ff; text-decoration: underline\">http://www.squidoo.com/studentfood#module55467342</span>         \n",
       "          \n",
       "          \n",
       "Bon       appétit!\n",
       "</pre>\n"
      ],
      "text/plain": [
       "Quick     and     easy    recipes         \n",
       "          \n",
       "Start     cooking         today!          \n",
       "You       can     do      it!     \n",
       "          \n",
       "Cooking   meals   is      much    cheaper         than    eating          outside.        This    is      true    \n",
       "everywhere      \n",
       "but       even    more    in      Geneva\u001b[33m...\u001b[0m       Take    turns   and     cook    for     your    roommate        \n",
       "and     your    \n",
       "friends!          You’ll          save    even    more    money   –       and     the     kitchen         will    \n",
       "probably        stay    \n",
       "cleaner\u001b[33m...\u001b[0m        \n",
       "          \n",
       "I         have    selected        only    a       few     recipes         from    these   websites:       \n",
       "\u001b[4;94mhttp://www.studentrecipes.com/\u001b[0m    \n",
       "\u001b[4;94mhttp://www.squidoo.com/studentfood#module55467342\u001b[0m         \n",
       "          \n",
       "          \n",
       "Bon       appétit!\n"
      ]
     },
     "metadata": {},
     "output_type": "display_data"
    },
    {
     "data": {
      "text/html": [
       "<pre style=\"white-space:pre;overflow-x:auto;line-height:normal;font-family:Menlo,'DejaVu Sans Mono',consolas,'Courier New',monospace\"><span style=\"color: #008080; text-decoration-color: #008080; font-weight: bold\">15</span>\n",
       "</pre>\n"
      ],
      "text/plain": [
       "\u001b[1;36m15\u001b[0m\n"
      ]
     },
     "metadata": {},
     "output_type": "display_data"
    }
   ],
   "source": [
    "print(pages_py[0].page_content)\n",
    "print(len(pages_py))"
   ]
  },
  {
   "cell_type": "code",
   "execution_count": 4,
   "metadata": {},
   "outputs": [
    {
     "data": {
      "text/html": [
       "<pre style=\"white-space:pre;overflow-x:auto;line-height:normal;font-family:Menlo,'DejaVu Sans Mono',consolas,'Courier New',monospace\"><span style=\"color: #800080; text-decoration-color: #800080; font-weight: bold\">Document</span><span style=\"font-weight: bold\">(</span>\n",
       "    <span style=\"color: #808000; text-decoration-color: #808000\">metadata</span>=<span style=\"font-weight: bold\">{</span>\n",
       "        <span style=\"color: #008000; text-decoration-color: #008000\">'producer'</span>: <span style=\"color: #008000; text-decoration-color: #008000\">'Mac OS X 10.6.4 Quartz PDFContext'</span>,\n",
       "        <span style=\"color: #008000; text-decoration-color: #008000\">'creator'</span>: <span style=\"color: #008000; text-decoration-color: #008000\">'Microsoft Word'</span>,\n",
       "        <span style=\"color: #008000; text-decoration-color: #008000\">'creationdate'</span>: <span style=\"color: #008000; text-decoration-color: #008000\">\"D:20100809161642Z00'00'\"</span>,\n",
       "        <span style=\"color: #008000; text-decoration-color: #008000\">'source'</span>: <span style=\"color: #008000; text-decoration-color: #008000\">'../data/raw/Easy_recipes.pdf'</span>,\n",
       "        <span style=\"color: #008000; text-decoration-color: #008000\">'file_path'</span>: <span style=\"color: #008000; text-decoration-color: #008000\">'../data/raw/Easy_recipes.pdf'</span>,\n",
       "        <span style=\"color: #008000; text-decoration-color: #008000\">'total_pages'</span>: <span style=\"color: #008080; text-decoration-color: #008080; font-weight: bold\">15</span>,\n",
       "        <span style=\"color: #008000; text-decoration-color: #008000\">'format'</span>: <span style=\"color: #008000; text-decoration-color: #008000\">'PDF 1.3'</span>,\n",
       "        <span style=\"color: #008000; text-decoration-color: #008000\">'title'</span>: <span style=\"color: #008000; text-decoration-color: #008000\">'Easy recipes'</span>,\n",
       "        <span style=\"color: #008000; text-decoration-color: #008000\">'author'</span>: <span style=\"color: #008000; text-decoration-color: #008000\">'sylvie meynier'</span>,\n",
       "        <span style=\"color: #008000; text-decoration-color: #008000\">'subject'</span>: <span style=\"color: #008000; text-decoration-color: #008000\">''</span>,\n",
       "        <span style=\"color: #008000; text-decoration-color: #008000\">'keywords'</span>: <span style=\"color: #008000; text-decoration-color: #008000\">''</span>,\n",
       "        <span style=\"color: #008000; text-decoration-color: #008000\">'moddate'</span>: <span style=\"color: #008000; text-decoration-color: #008000\">\"D:20100809161642Z00'00'\"</span>,\n",
       "        <span style=\"color: #008000; text-decoration-color: #008000\">'trapped'</span>: <span style=\"color: #008000; text-decoration-color: #008000\">''</span>,\n",
       "        <span style=\"color: #008000; text-decoration-color: #008000\">'page'</span>: <span style=\"color: #008080; text-decoration-color: #008080; font-weight: bold\">0</span>\n",
       "    <span style=\"font-weight: bold\">}</span>,\n",
       "    <span style=\"color: #808000; text-decoration-color: #808000\">page_content</span>=<span style=\"color: #008000; text-decoration-color: #008000\">'Quick\\t\\r \\xa0and\\t\\r \\xa0easy\\t\\r \\xa0recipes\\t\\r \\xa0\\n\\t\\r \\xa0\\nStart\\t\\r \\xa0cooking\\t\\r </span>\n",
       "<span style=\"color: #008000; text-decoration-color: #008000\">\\xa0today!\\t\\r \\xa0\\nYou\\t\\r \\xa0can\\t\\r \\xa0do\\t\\r \\xa0it!\\t\\r \\xa0\\n\\t\\r \\xa0\\nCooking\\t\\r \\xa0meals\\t\\r </span>\n",
       "<span style=\"color: #008000; text-decoration-color: #008000\">\\xa0is\\t\\r \\xa0much\\t\\r \\xa0cheaper\\t\\r \\xa0than\\t\\r \\xa0eating\\t\\r \\xa0outside.\\t\\r \\xa0This\\t\\r \\xa0is\\t\\r </span>\n",
       "<span style=\"color: #008000; text-decoration-color: #008000\">\\xa0true\\t\\r \\xa0everywhere\\t\\r \\xa0\\nbut\\t\\r \\xa0even\\t\\r \\xa0more\\t\\r \\xa0in\\t\\r \\xa0Geneva...\\t\\r \\xa0Take\\t\\r </span>\n",
       "<span style=\"color: #008000; text-decoration-color: #008000\">\\xa0turns\\t\\r \\xa0and\\t\\r \\xa0cook\\t\\r \\xa0for\\t\\r \\xa0your\\t\\r \\xa0roommate\\t\\r \\xa0and\\t\\r \\xa0your\\t\\r </span>\n",
       "<span style=\"color: #008000; text-decoration-color: #008000\">\\xa0\\nfriends!\\t\\r \\xa0You’ll\\t\\r \\xa0save\\t\\r \\xa0even\\t\\r \\xa0more\\t\\r \\xa0money\\t\\r \\xa0–\\t\\r \\xa0and\\t\\r </span>\n",
       "<span style=\"color: #008000; text-decoration-color: #008000\">\\xa0the\\t\\r \\xa0kitchen\\t\\r \\xa0will\\t\\r \\xa0probably\\t\\r \\xa0stay\\t\\r \\xa0\\ncleaner...\\t\\r \\xa0\\n\\t\\r \\xa0\\nI\\t\\r </span>\n",
       "<span style=\"color: #008000; text-decoration-color: #008000\">\\xa0have\\t\\r \\xa0selected\\t\\r \\xa0only\\t\\r \\xa0a\\t\\r \\xa0few\\t\\r \\xa0recipes\\t\\r \\xa0from\\t\\r \\xa0these\\t\\r </span>\n",
       "<span style=\"color: #008000; text-decoration-color: #008000\">\\xa0websites:\\t\\r \\xa0\\nhttp://www.studentrecipes.com/\\t\\r </span>\n",
       "<span style=\"color: #008000; text-decoration-color: #008000\">\\xa0\\nhttp://www.squidoo.com/studentfood#module55467342\\t\\r \\xa0\\n\\t\\r \\xa0\\n\\t\\r \\xa0\\nBon\\t\\r \\xa0appétit!'</span>\n",
       "<span style=\"font-weight: bold\">)</span>\n",
       "</pre>\n"
      ],
      "text/plain": [
       "\u001b[1;35mDocument\u001b[0m\u001b[1m(\u001b[0m\n",
       "    \u001b[33mmetadata\u001b[0m=\u001b[1m{\u001b[0m\n",
       "        \u001b[32m'producer'\u001b[0m: \u001b[32m'Mac OS X 10.6.4 Quartz PDFContext'\u001b[0m,\n",
       "        \u001b[32m'creator'\u001b[0m: \u001b[32m'Microsoft Word'\u001b[0m,\n",
       "        \u001b[32m'creationdate'\u001b[0m: \u001b[32m\"D:20100809161642Z00'00'\"\u001b[0m,\n",
       "        \u001b[32m'source'\u001b[0m: \u001b[32m'../data/raw/Easy_recipes.pdf'\u001b[0m,\n",
       "        \u001b[32m'file_path'\u001b[0m: \u001b[32m'../data/raw/Easy_recipes.pdf'\u001b[0m,\n",
       "        \u001b[32m'total_pages'\u001b[0m: \u001b[1;36m15\u001b[0m,\n",
       "        \u001b[32m'format'\u001b[0m: \u001b[32m'PDF 1.3'\u001b[0m,\n",
       "        \u001b[32m'title'\u001b[0m: \u001b[32m'Easy recipes'\u001b[0m,\n",
       "        \u001b[32m'author'\u001b[0m: \u001b[32m'sylvie meynier'\u001b[0m,\n",
       "        \u001b[32m'subject'\u001b[0m: \u001b[32m''\u001b[0m,\n",
       "        \u001b[32m'keywords'\u001b[0m: \u001b[32m''\u001b[0m,\n",
       "        \u001b[32m'moddate'\u001b[0m: \u001b[32m\"D:20100809161642Z00'00'\"\u001b[0m,\n",
       "        \u001b[32m'trapped'\u001b[0m: \u001b[32m''\u001b[0m,\n",
       "        \u001b[32m'page'\u001b[0m: \u001b[1;36m0\u001b[0m\n",
       "    \u001b[1m}\u001b[0m,\n",
       "    \u001b[33mpage_content\u001b[0m=\u001b[32m'Quick\\t\\r \\xa0and\\t\\r \\xa0easy\\t\\r \\xa0recipes\\t\\r \\xa0\\n\\t\\r \\xa0\\nStart\\t\\r \\xa0cooking\\t\\r \u001b[0m\n",
       "\u001b[32m\\xa0today!\\t\\r \\xa0\\nYou\\t\\r \\xa0can\\t\\r \\xa0do\\t\\r \\xa0it!\\t\\r \\xa0\\n\\t\\r \\xa0\\nCooking\\t\\r \\xa0meals\\t\\r \u001b[0m\n",
       "\u001b[32m\\xa0is\\t\\r \\xa0much\\t\\r \\xa0cheaper\\t\\r \\xa0than\\t\\r \\xa0eating\\t\\r \\xa0outside.\\t\\r \\xa0This\\t\\r \\xa0is\\t\\r \u001b[0m\n",
       "\u001b[32m\\xa0true\\t\\r \\xa0everywhere\\t\\r \\xa0\\nbut\\t\\r \\xa0even\\t\\r \\xa0more\\t\\r \\xa0in\\t\\r \\xa0Geneva...\\t\\r \\xa0Take\\t\\r \u001b[0m\n",
       "\u001b[32m\\xa0turns\\t\\r \\xa0and\\t\\r \\xa0cook\\t\\r \\xa0for\\t\\r \\xa0your\\t\\r \\xa0roommate\\t\\r \\xa0and\\t\\r \\xa0your\\t\\r \u001b[0m\n",
       "\u001b[32m\\xa0\\nfriends!\\t\\r \\xa0You’ll\\t\\r \\xa0save\\t\\r \\xa0even\\t\\r \\xa0more\\t\\r \\xa0money\\t\\r \\xa0–\\t\\r \\xa0and\\t\\r \u001b[0m\n",
       "\u001b[32m\\xa0the\\t\\r \\xa0kitchen\\t\\r \\xa0will\\t\\r \\xa0probably\\t\\r \\xa0stay\\t\\r \\xa0\\ncleaner...\\t\\r \\xa0\\n\\t\\r \\xa0\\nI\\t\\r \u001b[0m\n",
       "\u001b[32m\\xa0have\\t\\r \\xa0selected\\t\\r \\xa0only\\t\\r \\xa0a\\t\\r \\xa0few\\t\\r \\xa0recipes\\t\\r \\xa0from\\t\\r \\xa0these\\t\\r \u001b[0m\n",
       "\u001b[32m\\xa0websites:\\t\\r \\xa0\\nhttp://www.studentrecipes.com/\\t\\r \u001b[0m\n",
       "\u001b[32m\\xa0\\nhttp://www.squidoo.com/studentfood#module55467342\\t\\r \\xa0\\n\\t\\r \\xa0\\n\\t\\r \\xa0\\nBon\\t\\r \\xa0appétit!'\u001b[0m\n",
       "\u001b[1m)\u001b[0m\n"
      ]
     },
     "metadata": {},
     "output_type": "display_data"
    },
    {
     "data": {
      "text/html": [
       "<pre style=\"white-space:pre;overflow-x:auto;line-height:normal;font-family:Menlo,'DejaVu Sans Mono',consolas,'Courier New',monospace\"><span style=\"color: #008080; text-decoration-color: #008080; font-weight: bold\">29</span>\n",
       "</pre>\n"
      ],
      "text/plain": [
       "\u001b[1;36m29\u001b[0m\n"
      ]
     },
     "metadata": {},
     "output_type": "display_data"
    }
   ],
   "source": [
    "# text splitter\n",
    "from langchain.text_splitter import CharacterTextSplitter\n",
    "text_splitter = CharacterTextSplitter(\n",
    "    # shows how to seperate\n",
    "    separator=\"\\n\",\n",
    "    # Shows the document token length\n",
    "    chunk_size=1000,\n",
    "    # How much overlap should exist between documents\n",
    "    chunk_overlap=200,\n",
    "    # How to measure length\n",
    "    length_function=len\n",
    ")\n",
    "\n",
    "# Applying the splitter\n",
    "docs = text_splitter.split_documents(pages_py)\n",
    "\n",
    "print(docs[0])\n",
    "print(len(docs))"
   ]
  },
  {
   "cell_type": "code",
   "execution_count": 5,
   "metadata": {},
   "outputs": [],
   "source": [
    "def clean_text(text):\n",
    "    # Remove non-printable characters\n",
    "    text = re.sub(r'[^\\x20-\\x7E]', '', text)\n",
    "    \n",
    "    # Remove excessive spaces, newlines, and tabs\n",
    "    text = re.sub(r'\\s+', ' ', text).strip()\n",
    "    \n",
    "    # Remove unwanted special characters but keep medical symbols\n",
    "    text = re.sub(r'[^\\w\\s.,:;/%°±()\\-]', '', text)  \n",
    "    text = re.sub(r'[\\t\\r\\xa0]', ' ', text)  # Replace \\t, \\r, and \\xa0 with a space\n",
    "    text = re.sub(r'\\n+', '\\n', text)  # Keep meaningful line breaks\n",
    "    text = re.sub(r' +', ' ', text).strip()  # Remove excessive space\n",
    "\n",
    "    return text  "
   ]
  },
  {
   "cell_type": "code",
   "execution_count": 6,
   "metadata": {},
   "outputs": [],
   "source": [
    "from langchain_core.documents import Document\n",
    "docs = [Document(clean_text(doc.page_content),metadata=doc.metadata) for doc in docs]"
   ]
  },
  {
   "cell_type": "code",
   "execution_count": 7,
   "metadata": {},
   "outputs": [
    {
     "data": {
      "text/html": [
       "<pre style=\"white-space:pre;overflow-x:auto;line-height:normal;font-family:Menlo,'DejaVu Sans Mono',consolas,'Courier New',monospace\"><span style=\"color: #800080; text-decoration-color: #800080; font-weight: bold\">Document</span><span style=\"font-weight: bold\">(</span>\n",
       "    <span style=\"color: #808000; text-decoration-color: #808000\">metadata</span>=<span style=\"font-weight: bold\">{</span>\n",
       "        <span style=\"color: #008000; text-decoration-color: #008000\">'producer'</span>: <span style=\"color: #008000; text-decoration-color: #008000\">'Mac OS X 10.6.4 Quartz PDFContext'</span>,\n",
       "        <span style=\"color: #008000; text-decoration-color: #008000\">'creator'</span>: <span style=\"color: #008000; text-decoration-color: #008000\">'Microsoft Word'</span>,\n",
       "        <span style=\"color: #008000; text-decoration-color: #008000\">'creationdate'</span>: <span style=\"color: #008000; text-decoration-color: #008000\">\"D:20100809161642Z00'00'\"</span>,\n",
       "        <span style=\"color: #008000; text-decoration-color: #008000\">'source'</span>: <span style=\"color: #008000; text-decoration-color: #008000\">'../data/raw/Easy_recipes.pdf'</span>,\n",
       "        <span style=\"color: #008000; text-decoration-color: #008000\">'file_path'</span>: <span style=\"color: #008000; text-decoration-color: #008000\">'../data/raw/Easy_recipes.pdf'</span>,\n",
       "        <span style=\"color: #008000; text-decoration-color: #008000\">'total_pages'</span>: <span style=\"color: #008080; text-decoration-color: #008080; font-weight: bold\">15</span>,\n",
       "        <span style=\"color: #008000; text-decoration-color: #008000\">'format'</span>: <span style=\"color: #008000; text-decoration-color: #008000\">'PDF 1.3'</span>,\n",
       "        <span style=\"color: #008000; text-decoration-color: #008000\">'title'</span>: <span style=\"color: #008000; text-decoration-color: #008000\">'Easy recipes'</span>,\n",
       "        <span style=\"color: #008000; text-decoration-color: #008000\">'author'</span>: <span style=\"color: #008000; text-decoration-color: #008000\">'sylvie meynier'</span>,\n",
       "        <span style=\"color: #008000; text-decoration-color: #008000\">'subject'</span>: <span style=\"color: #008000; text-decoration-color: #008000\">''</span>,\n",
       "        <span style=\"color: #008000; text-decoration-color: #008000\">'keywords'</span>: <span style=\"color: #008000; text-decoration-color: #008000\">''</span>,\n",
       "        <span style=\"color: #008000; text-decoration-color: #008000\">'moddate'</span>: <span style=\"color: #008000; text-decoration-color: #008000\">\"D:20100809161642Z00'00'\"</span>,\n",
       "        <span style=\"color: #008000; text-decoration-color: #008000\">'trapped'</span>: <span style=\"color: #008000; text-decoration-color: #008000\">''</span>,\n",
       "        <span style=\"color: #008000; text-decoration-color: #008000\">'page'</span>: <span style=\"color: #008080; text-decoration-color: #008080; font-weight: bold\">0</span>\n",
       "    <span style=\"font-weight: bold\">}</span>,\n",
       "    <span style=\"color: #808000; text-decoration-color: #808000\">page_content</span>=<span style=\"color: #008000; text-decoration-color: #008000\">'Quick and easy recipes Start cooking today You can do it Cooking meals is much cheaper than </span>\n",
       "<span style=\"color: #008000; text-decoration-color: #008000\">eating outside. This is true everywhere but even more in Geneva... Take turns and cook for your roommate and your </span>\n",
       "<span style=\"color: #008000; text-decoration-color: #008000\">friends Youll save even more money and the kitchen will probably stay cleaner... I have selected only a few recipes</span>\n",
       "<span style=\"color: #008000; text-decoration-color: #008000\">from these websites: http://www.studentrecipes.com/ http://www.squidoo.com/studentfoodmodule55467342 Bon apptit'</span>\n",
       "<span style=\"font-weight: bold\">)</span>\n",
       "</pre>\n"
      ],
      "text/plain": [
       "\u001b[1;35mDocument\u001b[0m\u001b[1m(\u001b[0m\n",
       "    \u001b[33mmetadata\u001b[0m=\u001b[1m{\u001b[0m\n",
       "        \u001b[32m'producer'\u001b[0m: \u001b[32m'Mac OS X 10.6.4 Quartz PDFContext'\u001b[0m,\n",
       "        \u001b[32m'creator'\u001b[0m: \u001b[32m'Microsoft Word'\u001b[0m,\n",
       "        \u001b[32m'creationdate'\u001b[0m: \u001b[32m\"D:20100809161642Z00'00'\"\u001b[0m,\n",
       "        \u001b[32m'source'\u001b[0m: \u001b[32m'../data/raw/Easy_recipes.pdf'\u001b[0m,\n",
       "        \u001b[32m'file_path'\u001b[0m: \u001b[32m'../data/raw/Easy_recipes.pdf'\u001b[0m,\n",
       "        \u001b[32m'total_pages'\u001b[0m: \u001b[1;36m15\u001b[0m,\n",
       "        \u001b[32m'format'\u001b[0m: \u001b[32m'PDF 1.3'\u001b[0m,\n",
       "        \u001b[32m'title'\u001b[0m: \u001b[32m'Easy recipes'\u001b[0m,\n",
       "        \u001b[32m'author'\u001b[0m: \u001b[32m'sylvie meynier'\u001b[0m,\n",
       "        \u001b[32m'subject'\u001b[0m: \u001b[32m''\u001b[0m,\n",
       "        \u001b[32m'keywords'\u001b[0m: \u001b[32m''\u001b[0m,\n",
       "        \u001b[32m'moddate'\u001b[0m: \u001b[32m\"D:20100809161642Z00'00'\"\u001b[0m,\n",
       "        \u001b[32m'trapped'\u001b[0m: \u001b[32m''\u001b[0m,\n",
       "        \u001b[32m'page'\u001b[0m: \u001b[1;36m0\u001b[0m\n",
       "    \u001b[1m}\u001b[0m,\n",
       "    \u001b[33mpage_content\u001b[0m=\u001b[32m'Quick and easy recipes Start cooking today You can do it Cooking meals is much cheaper than \u001b[0m\n",
       "\u001b[32meating outside. This is true everywhere but even more in Geneva... Take turns and cook for your roommate and your \u001b[0m\n",
       "\u001b[32mfriends Youll save even more money and the kitchen will probably stay cleaner... I have selected only a few recipes\u001b[0m\n",
       "\u001b[32mfrom these websites: http://www.studentrecipes.com/ http://www.squidoo.com/studentfoodmodule55467342 Bon apptit'\u001b[0m\n",
       "\u001b[1m)\u001b[0m\n"
      ]
     },
     "metadata": {},
     "output_type": "display_data"
    }
   ],
   "source": [
    "print(docs[0])"
   ]
  },
  {
   "cell_type": "code",
   "execution_count": 8,
   "metadata": {},
   "outputs": [],
   "source": [
    "embeddings=AutoTokenizer.from_pretrained(EMBEDDING_MODEL)"
   ]
  },
  {
   "cell_type": "code",
   "execution_count": 9,
   "metadata": {},
   "outputs": [
    {
     "data": {
      "text/html": [
       "<pre style=\"white-space:pre;overflow-x:auto;line-height:normal;font-family:Menlo,'DejaVu Sans Mono',consolas,'Courier New',monospace\">pcsk_7PvMU4_15gJfjME25FYrtL2aWQR9k63AkdNHWynw3ZLXnPJ1kFVggdkLMRpESv5ajdTNfF\n",
       "</pre>\n"
      ],
      "text/plain": [
       "pcsk_7PvMU4_15gJfjME25FYrtL2aWQR9k63AkdNHWynw3ZLXnPJ1kFVggdkLMRpESv5ajdTNfF\n"
      ]
     },
     "metadata": {},
     "output_type": "display_data"
    }
   ],
   "source": [
    "pinecone_api_key = os.environ.get(\"PINECONE_API_KEY\")\n",
    "print(pinecone_api_key)\n",
    "pc = Pinecone(api_key=pinecone_api_key)"
   ]
  },
  {
   "cell_type": "code",
   "execution_count": 25,
   "metadata": {},
   "outputs": [
    {
     "data": {
      "text/html": [
       "<pre style=\"white-space:pre;overflow-x:auto;line-height:normal;font-family:Menlo,'DejaVu Sans Mono',consolas,'Courier New',monospace\"><span style=\"font-weight: bold\">[</span><span style=\"color: #008000; text-decoration-color: #008000\">'test3-index-legal'</span>, <span style=\"color: #008000; text-decoration-color: #008000\">'test2-index-legal'</span>, <span style=\"color: #008000; text-decoration-color: #008000\">'test-index-legal'</span><span style=\"font-weight: bold\">]</span>\n",
       "</pre>\n"
      ],
      "text/plain": [
       "\u001b[1m[\u001b[0m\u001b[32m'test3-index-legal'\u001b[0m, \u001b[32m'test2-index-legal'\u001b[0m, \u001b[32m'test-index-legal'\u001b[0m\u001b[1m]\u001b[0m\n"
      ]
     },
     "metadata": {},
     "output_type": "display_data"
    },
    {
     "data": {
      "text/html": [
       "<pre style=\"white-space:pre;overflow-x:auto;line-height:normal;font-family:Menlo,'DejaVu Sans Mono',consolas,'Courier New',monospace\"><span style=\"font-weight: bold\">&lt;</span><span style=\"color: #ff00ff; text-decoration-color: #ff00ff; font-weight: bold\">pinecone.data.index.Index</span><span style=\"color: #000000; text-decoration-color: #000000\"> object at </span><span style=\"color: #008080; text-decoration-color: #008080; font-weight: bold\">0x000001CBDD662260</span><span style=\"font-weight: bold\">&gt;</span>\n",
       "</pre>\n"
      ],
      "text/plain": [
       "\u001b[1m<\u001b[0m\u001b[1;95mpinecone.data.index.Index\u001b[0m\u001b[39m object at \u001b[0m\u001b[1;36m0x000001CBDD662260\u001b[0m\u001b[1m>\u001b[0m\n"
      ]
     },
     "metadata": {},
     "output_type": "display_data"
    }
   ],
   "source": [
    "import time\n",
    "\n",
    "index_name = \"test2-index-legal\"  # change if desired\n",
    "\n",
    "existing_indexes = [index_info[\"name\"] for index_info in pc.list_indexes()]\n",
    "print(existing_indexes)\n",
    "\n",
    "if index_name not in existing_indexes:\n",
    "    pc.create_index(\n",
    "        name=index_name,\n",
    "        dimension=1024,\n",
    "        metric=\"cosine\",\n",
    "        spec=ServerlessSpec(cloud=\"aws\", region=\"us-east-1\"),\n",
    "    )\n",
    "    while not pc.describe_index(index_name).status[\"ready\"]:\n",
    "        time.sleep(1)\n",
    "\n",
    "index = pc.Index(index_name)\n",
    "print(index)"
   ]
  },
  {
   "cell_type": "code",
   "execution_count": 11,
   "metadata": {},
   "outputs": [],
   "source": [
    "# create embeddings and upload to pinecone"
   ]
  },
  {
   "cell_type": "code",
   "execution_count": null,
   "metadata": {},
   "outputs": [
    {
     "ename": "AttributeError",
     "evalue": "'Index' object has no attribute 'name'",
     "output_type": "error",
     "traceback": [
      "\u001b[1;31m---------------------------------------------------------------------------\u001b[0m",
      "\u001b[1;31mAttributeError\u001b[0m                            Traceback (most recent call last)",
      "Cell \u001b[1;32mIn[12], line 29\u001b[0m\n\u001b[0;32m     24\u001b[0m \u001b[38;5;66;03m# Upload vectors to Pinecone\u001b[39;00m\n\u001b[0;32m     25\u001b[0m index\u001b[38;5;241m.\u001b[39mupsert(\n\u001b[0;32m     26\u001b[0m     vectors\u001b[38;5;241m=\u001b[39mvectors,\n\u001b[0;32m     27\u001b[0m )\n\u001b[1;32m---> 29\u001b[0m \u001b[38;5;28mprint\u001b[39m(\u001b[38;5;124mf\u001b[39m\u001b[38;5;124m\"\u001b[39m\u001b[38;5;124mUploaded \u001b[39m\u001b[38;5;132;01m{\u001b[39;00m\u001b[38;5;28mlen\u001b[39m(vectors)\u001b[38;5;132;01m}\u001b[39;00m\u001b[38;5;124m vectors to Pinecone index \u001b[39m\u001b[38;5;124m'\u001b[39m\u001b[38;5;132;01m{\u001b[39;00m\u001b[43mindex\u001b[49m\u001b[38;5;241;43m.\u001b[39;49m\u001b[43mname\u001b[49m\u001b[38;5;132;01m}\u001b[39;00m\u001b[38;5;124m'\u001b[39m\u001b[38;5;124m\"\u001b[39m)\n",
      "\u001b[1;31mAttributeError\u001b[0m: 'Index' object has no attribute 'name'"
     ]
    }
   ],
   "source": [
    "import numpy as np\n",
    "from uuid import uuid4\n",
    "\n",
    "# Generate embeddings for the documents using multilingual-e5-large\n",
    "embeddings = pc.inference.embed(\n",
    "    model=\"multilingual-e5-large\",\n",
    "    inputs=[doc.page_content for doc in docs],\n",
    "    parameters={\"input_type\": \"passage\", \"truncate\": \"END\"}\n",
    ")\n",
    "\n",
    "\n",
    "vectors = []\n",
    "for i, (doc, embedding) in enumerate(zip(docs, embeddings)):\n",
    "    vector = {\n",
    "        \"id\": str(uuid4()),  # Generate a unique ID for each vector\n",
    "        \"values\": embedding['values'],  # Ensure embedding values are correctly extracted\n",
    "        \"metadata\": {\n",
    "            \"text\": doc.page_content,\n",
    "            **doc.metadata  # Include all metadata from the document\n",
    "        }\n",
    "    }\n",
    "    vectors.append(vector)\n",
    "\n",
    "# Upload vectors to Pinecone\n",
    "index.upsert(\n",
    "    vectors=vectors,\n",
    ")\n"
   ]
  },
  {
   "cell_type": "code",
   "execution_count": 13,
   "metadata": {},
   "outputs": [
    {
     "name": "stderr",
     "output_type": "stream",
     "text": [
      "c:\\Users\\naran\\anaconda3\\envs\\legal_env\\lib\\site-packages\\langsmith\\client.py:253: LangSmithMissingAPIKeyWarning: API key must be provided when using hosted LangSmith API\n",
      "  warnings.warn(\n"
     ]
    }
   ],
   "source": [
    "from langchain import hub\n",
    "\n",
    "prompt = hub.pull(\"rlm/rag-prompt\")\n"
   ]
  },
  {
   "cell_type": "code",
   "execution_count": 14,
   "metadata": {},
   "outputs": [
    {
     "data": {
      "text/html": [
       "<pre style=\"white-space:pre;overflow-x:auto;line-height:normal;font-family:Menlo,'DejaVu Sans Mono',consolas,'Courier New',monospace\"><span style=\"color: #800080; text-decoration-color: #800080; font-weight: bold\">ChatPromptTemplate</span><span style=\"font-weight: bold\">(</span>\n",
       "    <span style=\"color: #808000; text-decoration-color: #808000\">input_variables</span>=<span style=\"font-weight: bold\">[</span><span style=\"color: #008000; text-decoration-color: #008000\">'context'</span>, <span style=\"color: #008000; text-decoration-color: #008000\">'question'</span><span style=\"font-weight: bold\">]</span>,\n",
       "    <span style=\"color: #808000; text-decoration-color: #808000\">input_types</span>=<span style=\"font-weight: bold\">{}</span>,\n",
       "    <span style=\"color: #808000; text-decoration-color: #808000\">partial_variables</span>=<span style=\"font-weight: bold\">{}</span>,\n",
       "    <span style=\"color: #808000; text-decoration-color: #808000\">metadata</span>=<span style=\"font-weight: bold\">{</span>\n",
       "        <span style=\"color: #008000; text-decoration-color: #008000\">'lc_hub_owner'</span>: <span style=\"color: #008000; text-decoration-color: #008000\">'rlm'</span>,\n",
       "        <span style=\"color: #008000; text-decoration-color: #008000\">'lc_hub_repo'</span>: <span style=\"color: #008000; text-decoration-color: #008000\">'rag-prompt'</span>,\n",
       "        <span style=\"color: #008000; text-decoration-color: #008000\">'lc_hub_commit_hash'</span>: <span style=\"color: #008000; text-decoration-color: #008000\">'50442af133e61576e74536c6556cefe1fac147cad032f4377b60c436e6cdcb6e'</span>\n",
       "    <span style=\"font-weight: bold\">}</span>,\n",
       "    <span style=\"color: #808000; text-decoration-color: #808000\">messages</span>=<span style=\"font-weight: bold\">[</span>\n",
       "        <span style=\"color: #800080; text-decoration-color: #800080; font-weight: bold\">HumanMessagePromptTemplate</span><span style=\"font-weight: bold\">(</span>\n",
       "            <span style=\"color: #808000; text-decoration-color: #808000\">prompt</span>=<span style=\"color: #800080; text-decoration-color: #800080; font-weight: bold\">PromptTemplate</span><span style=\"font-weight: bold\">(</span>\n",
       "                <span style=\"color: #808000; text-decoration-color: #808000\">input_variables</span>=<span style=\"font-weight: bold\">[</span><span style=\"color: #008000; text-decoration-color: #008000\">'context'</span>, <span style=\"color: #008000; text-decoration-color: #008000\">'question'</span><span style=\"font-weight: bold\">]</span>,\n",
       "                <span style=\"color: #808000; text-decoration-color: #808000\">input_types</span>=<span style=\"font-weight: bold\">{}</span>,\n",
       "                <span style=\"color: #808000; text-decoration-color: #808000\">partial_variables</span>=<span style=\"font-weight: bold\">{}</span>,\n",
       "                <span style=\"color: #808000; text-decoration-color: #808000\">template</span>=<span style=\"color: #008000; text-decoration-color: #008000\">\"You are an assistant for question-answering tasks. Use the following pieces of retrieved </span>\n",
       "<span style=\"color: #008000; text-decoration-color: #008000\">context to answer the question. If you don't know the answer, just say that you don't know. Use three sentences </span>\n",
       "<span style=\"color: #008000; text-decoration-color: #008000\">maximum and keep the answer concise.\\nQuestion: {question} \\nContext: {context} \\nAnswer:\"</span>\n",
       "            <span style=\"font-weight: bold\">)</span>,\n",
       "            <span style=\"color: #808000; text-decoration-color: #808000\">additional_kwargs</span>=<span style=\"font-weight: bold\">{}</span>\n",
       "        <span style=\"font-weight: bold\">)</span>\n",
       "    <span style=\"font-weight: bold\">]</span>\n",
       "<span style=\"font-weight: bold\">)</span>\n",
       "</pre>\n"
      ],
      "text/plain": [
       "\u001b[1;35mChatPromptTemplate\u001b[0m\u001b[1m(\u001b[0m\n",
       "    \u001b[33minput_variables\u001b[0m=\u001b[1m[\u001b[0m\u001b[32m'context'\u001b[0m, \u001b[32m'question'\u001b[0m\u001b[1m]\u001b[0m,\n",
       "    \u001b[33minput_types\u001b[0m=\u001b[1m{\u001b[0m\u001b[1m}\u001b[0m,\n",
       "    \u001b[33mpartial_variables\u001b[0m=\u001b[1m{\u001b[0m\u001b[1m}\u001b[0m,\n",
       "    \u001b[33mmetadata\u001b[0m=\u001b[1m{\u001b[0m\n",
       "        \u001b[32m'lc_hub_owner'\u001b[0m: \u001b[32m'rlm'\u001b[0m,\n",
       "        \u001b[32m'lc_hub_repo'\u001b[0m: \u001b[32m'rag-prompt'\u001b[0m,\n",
       "        \u001b[32m'lc_hub_commit_hash'\u001b[0m: \u001b[32m'50442af133e61576e74536c6556cefe1fac147cad032f4377b60c436e6cdcb6e'\u001b[0m\n",
       "    \u001b[1m}\u001b[0m,\n",
       "    \u001b[33mmessages\u001b[0m=\u001b[1m[\u001b[0m\n",
       "        \u001b[1;35mHumanMessagePromptTemplate\u001b[0m\u001b[1m(\u001b[0m\n",
       "            \u001b[33mprompt\u001b[0m=\u001b[1;35mPromptTemplate\u001b[0m\u001b[1m(\u001b[0m\n",
       "                \u001b[33minput_variables\u001b[0m=\u001b[1m[\u001b[0m\u001b[32m'context'\u001b[0m, \u001b[32m'question'\u001b[0m\u001b[1m]\u001b[0m,\n",
       "                \u001b[33minput_types\u001b[0m=\u001b[1m{\u001b[0m\u001b[1m}\u001b[0m,\n",
       "                \u001b[33mpartial_variables\u001b[0m=\u001b[1m{\u001b[0m\u001b[1m}\u001b[0m,\n",
       "                \u001b[33mtemplate\u001b[0m=\u001b[32m\"You\u001b[0m\u001b[32m are an assistant for question-answering tasks. Use the following pieces of retrieved \u001b[0m\n",
       "\u001b[32mcontext to answer the question. If you don't know the answer, just say that you don't know. Use three sentences \u001b[0m\n",
       "\u001b[32mmaximum and keep the answer concise.\\nQuestion: \u001b[0m\u001b[32m{\u001b[0m\u001b[32mquestion\u001b[0m\u001b[32m}\u001b[0m\u001b[32m \\nContext: \u001b[0m\u001b[32m{\u001b[0m\u001b[32mcontext\u001b[0m\u001b[32m}\u001b[0m\u001b[32m \\nAnswer:\"\u001b[0m\n",
       "            \u001b[1m)\u001b[0m,\n",
       "            \u001b[33madditional_kwargs\u001b[0m=\u001b[1m{\u001b[0m\u001b[1m}\u001b[0m\n",
       "        \u001b[1m)\u001b[0m\n",
       "    \u001b[1m]\u001b[0m\n",
       "\u001b[1m)\u001b[0m\n"
      ]
     },
     "metadata": {},
     "output_type": "display_data"
    }
   ],
   "source": [
    "print(prompt)"
   ]
  },
  {
   "cell_type": "code",
   "execution_count": 19,
   "metadata": {},
   "outputs": [
    {
     "data": {
      "text/html": [
       "<pre style=\"white-space:pre;overflow-x:auto;line-height:normal;font-family:Menlo,'DejaVu Sans Mono',consolas,'Courier New',monospace\"><span style=\"font-weight: bold\">[</span>\n",
       "    <span style=\"color: #800080; text-decoration-color: #800080; font-weight: bold\">HumanMessage</span><span style=\"font-weight: bold\">(</span>\n",
       "        <span style=\"color: #808000; text-decoration-color: #808000\">content</span>=<span style=\"color: #008000; text-decoration-color: #008000\">\"You are an assistant for question-answering tasks. Use the following pieces of retrieved context </span>\n",
       "<span style=\"color: #008000; text-decoration-color: #008000\">to answer the question. If you don't know the answer, just say that you don't know. Use three sentences maximum and</span>\n",
       "<span style=\"color: #008000; text-decoration-color: #008000\">keep the answer concise.\\nQuestion: (question goes here) \\nContext: (context goes here) \\nAnswer:\"</span>,\n",
       "        <span style=\"color: #808000; text-decoration-color: #808000\">additional_kwargs</span>=<span style=\"font-weight: bold\">{}</span>,\n",
       "        <span style=\"color: #808000; text-decoration-color: #808000\">response_metadata</span>=<span style=\"font-weight: bold\">{}</span>\n",
       "    <span style=\"font-weight: bold\">)</span>\n",
       "<span style=\"font-weight: bold\">]</span>\n",
       "</pre>\n"
      ],
      "text/plain": [
       "\u001b[1m[\u001b[0m\n",
       "    \u001b[1;35mHumanMessage\u001b[0m\u001b[1m(\u001b[0m\n",
       "        \u001b[33mcontent\u001b[0m=\u001b[32m\"You\u001b[0m\u001b[32m are an assistant for question-answering tasks. Use the following pieces of retrieved context \u001b[0m\n",
       "\u001b[32mto answer the question. If you don't know the answer, just say that you don't know. Use three sentences maximum and\u001b[0m\n",
       "\u001b[32mkeep the answer concise.\\nQuestion: \u001b[0m\u001b[32m(\u001b[0m\u001b[32mquestion goes here\u001b[0m\u001b[32m)\u001b[0m\u001b[32m \\nContext: \u001b[0m\u001b[32m(\u001b[0m\u001b[32mcontext goes here\u001b[0m\u001b[32m)\u001b[0m\u001b[32m \\nAnswer:\"\u001b[0m,\n",
       "        \u001b[33madditional_kwargs\u001b[0m=\u001b[1m{\u001b[0m\u001b[1m}\u001b[0m,\n",
       "        \u001b[33mresponse_metadata\u001b[0m=\u001b[1m{\u001b[0m\u001b[1m}\u001b[0m\n",
       "    \u001b[1m)\u001b[0m\n",
       "\u001b[1m]\u001b[0m\n"
      ]
     },
     "metadata": {},
     "output_type": "display_data"
    }
   ],
   "source": [
    "example_messages = prompt.invoke(\n",
    "    {\"context\": \"(context goes here)\", \"question\": \"(question goes here)\"}\n",
    ").to_messages()\n",
    "\n",
    "assert len(example_messages) == 1\n",
    "print(example_messages)"
   ]
  },
  {
   "cell_type": "code",
   "execution_count": 20,
   "metadata": {},
   "outputs": [],
   "source": [
    "import getpass\n",
    "import os\n",
    "\n",
    "if not os.environ.get(\"GROQ_API_KEY\"):\n",
    "  os.environ[\"GROQ_API_KEY\"] = getpass.getpass(\"Enter API key for Groq: \")\n",
    "\n",
    "from langchain_groq import ChatGroq\n",
    "\n",
    "llm = ChatGroq(model=\"llama3-8b-8192\")"
   ]
  },
  {
   "cell_type": "code",
   "execution_count": 27,
   "metadata": {},
   "outputs": [],
   "source": [
    "from langchain_huggingface import HuggingFaceEmbeddings\n",
    "\n",
    "embeddings = HuggingFaceEmbeddings(model_name=\"sentence-transformers/all-roberta-large-v1\")"
   ]
  },
  {
   "cell_type": "code",
   "execution_count": 28,
   "metadata": {},
   "outputs": [],
   "source": [
    "from langchain_pinecone import PineconeVectorStore\n",
    "from pinecone import Pinecone\n",
    "\n",
    "index_name1 = \"test3-index-legal\"  # change if desired\n",
    "pc = Pinecone(api_key=os.environ[\"PINECONE_API_KEY\"])\n",
    "if index_name1 not in existing_indexes:\n",
    "    pc.create_index(\n",
    "        name=index_name1,\n",
    "        dimension=1024,\n",
    "        metric=\"cosine\",\n",
    "        spec=ServerlessSpec(cloud=\"aws\", region=\"us-east-1\"),\n",
    "    )\n",
    "    while not pc.describe_index(index_name1).status[\"ready\"]:\n",
    "        time.sleep(1)\n",
    "index = pc.Index(index_name1)\n",
    "\n",
    "vector_store = PineconeVectorStore(embedding=embeddings, index=index)"
   ]
  },
  {
   "cell_type": "code",
   "execution_count": 29,
   "metadata": {},
   "outputs": [],
   "source": [
    "_ = vector_store.add_documents(documents=docs)"
   ]
  },
  {
   "cell_type": "code",
   "execution_count": 30,
   "metadata": {},
   "outputs": [],
   "source": [
    "from langgraph.graph import MessagesState, StateGraph\n",
    "\n",
    "graph_builder = StateGraph(MessagesState)"
   ]
  },
  {
   "cell_type": "code",
   "execution_count": 32,
   "metadata": {},
   "outputs": [],
   "source": [
    "from langchain_core.tools import tool\n",
    "\n",
    "\n",
    "@tool(response_format=\"content_and_artifact\")\n",
    "def retrieve(query: str):\n",
    "    \"\"\"Retrieve information related to a query.\"\"\"\n",
    "    retrieved_docs = vector_store.similarity_search(query, k=10)\n",
    "    serialized = \"\\n\\n\".join(\n",
    "        (f\"Source: {doc.metadata}\\n\" f\"Content: {doc.page_content}\")\n",
    "        for doc in retrieved_docs\n",
    "    )\n",
    "    return serialized, retrieved_docs"
   ]
  },
  {
   "cell_type": "code",
   "execution_count": 41,
   "metadata": {},
   "outputs": [],
   "source": [
    "from langchain_core.messages import SystemMessage\n",
    "from langgraph.prebuilt import ToolNode\n",
    "\n",
    "\n",
    "# Step 1: Generate an AIMessage that may include a tool-call to be sent.\n",
    "def query_or_respond(state: MessagesState):\n",
    "    \"\"\"Generate tool call for retrieval or respond.\"\"\"\n",
    "    llm_with_tools = llm.bind_tools([retrieve])\n",
    "    response = llm_with_tools.invoke(state[\"messages\"])\n",
    "    # MessagesState appends messages to state instead of overwriting\n",
    "    return {\"messages\": [response]}\n",
    "\n",
    "\n",
    "# Step 2: Execute the retrieval.\n",
    "tools = ToolNode([retrieve])\n",
    "\n",
    "\n",
    "# Step 3: Generate a response using the retrieved content.\n",
    "def generate(state: MessagesState):\n",
    "    \"\"\"Generate answer.\"\"\"\n",
    "    # Get generated ToolMessages\n",
    "    recent_tool_messages = []\n",
    "    for message in reversed(state[\"messages\"]):\n",
    "        if message.type == \"tool\":\n",
    "            recent_tool_messages.append(message)\n",
    "        else:\n",
    "            break\n",
    "    tool_messages = recent_tool_messages[::-1]\n",
    "\n",
    "    # Format into prompt\n",
    "    docs_content = \"\\n\\n\".join(doc.content for doc in tool_messages)\n",
    "    system_message_content = (\n",
    "        \"You are an assistant for question-answering tasks. \"\n",
    "        \"Use the following pieces of retrieved context to answer \"\n",
    "        \"the question. If you don't know the answer, say that you \"\n",
    "        \"don't know. Summarize the information in the context\"\n",
    "        \"\\n\\n\"\n",
    "        f\"{docs_content}\"\n",
    "    )\n",
    "    conversation_messages = [\n",
    "        message\n",
    "        for message in state[\"messages\"]\n",
    "        if message.type in (\"human\", \"system\")\n",
    "        or (message.type == \"ai\" and not message.tool_calls)\n",
    "    ]\n",
    "    prompt = [SystemMessage(system_message_content)] + conversation_messages\n",
    "\n",
    "    # Run\n",
    "    response = llm.invoke(prompt)\n",
    "    return {\"messages\": [response]}"
   ]
  },
  {
   "cell_type": "code",
   "execution_count": 42,
   "metadata": {},
   "outputs": [
    {
     "name": "stderr",
     "output_type": "stream",
     "text": [
      "Adding a node to a graph that has already been compiled. This will not be reflected in the compiled graph.\n"
     ]
    },
    {
     "ename": "ValueError",
     "evalue": "Node `query_or_respond` already present.",
     "output_type": "error",
     "traceback": [
      "\u001b[1;31m---------------------------------------------------------------------------\u001b[0m",
      "\u001b[1;31mValueError\u001b[0m                                Traceback (most recent call last)",
      "Cell \u001b[1;32mIn[42], line 4\u001b[0m\n\u001b[0;32m      1\u001b[0m \u001b[38;5;28;01mfrom\u001b[39;00m \u001b[38;5;21;01mlanggraph\u001b[39;00m\u001b[38;5;21;01m.\u001b[39;00m\u001b[38;5;21;01mgraph\u001b[39;00m \u001b[38;5;28;01mimport\u001b[39;00m END\n\u001b[0;32m      2\u001b[0m \u001b[38;5;28;01mfrom\u001b[39;00m \u001b[38;5;21;01mlanggraph\u001b[39;00m\u001b[38;5;21;01m.\u001b[39;00m\u001b[38;5;21;01mprebuilt\u001b[39;00m \u001b[38;5;28;01mimport\u001b[39;00m ToolNode, tools_condition\n\u001b[1;32m----> 4\u001b[0m \u001b[43mgraph_builder\u001b[49m\u001b[38;5;241;43m.\u001b[39;49m\u001b[43madd_node\u001b[49m\u001b[43m(\u001b[49m\u001b[43mquery_or_respond\u001b[49m\u001b[43m)\u001b[49m\n\u001b[0;32m      5\u001b[0m graph_builder\u001b[38;5;241m.\u001b[39madd_node(tools)\n\u001b[0;32m      6\u001b[0m graph_builder\u001b[38;5;241m.\u001b[39madd_node(generate)\n",
      "File \u001b[1;32mc:\\Users\\naran\\anaconda3\\envs\\legal_env\\lib\\site-packages\\langgraph\\graph\\state.py:351\u001b[0m, in \u001b[0;36mStateGraph.add_node\u001b[1;34m(self, node, action, metadata, input, retry)\u001b[0m\n\u001b[0;32m    349\u001b[0m     \u001b[38;5;28;01mraise\u001b[39;00m \u001b[38;5;167;01mRuntimeError\u001b[39;00m\n\u001b[0;32m    350\u001b[0m \u001b[38;5;28;01mif\u001b[39;00m node \u001b[38;5;129;01min\u001b[39;00m \u001b[38;5;28mself\u001b[39m\u001b[38;5;241m.\u001b[39mnodes:\n\u001b[1;32m--> 351\u001b[0m     \u001b[38;5;28;01mraise\u001b[39;00m \u001b[38;5;167;01mValueError\u001b[39;00m(\u001b[38;5;124mf\u001b[39m\u001b[38;5;124m\"\u001b[39m\u001b[38;5;124mNode `\u001b[39m\u001b[38;5;132;01m{\u001b[39;00mnode\u001b[38;5;132;01m}\u001b[39;00m\u001b[38;5;124m` already present.\u001b[39m\u001b[38;5;124m\"\u001b[39m)\n\u001b[0;32m    352\u001b[0m \u001b[38;5;28;01mif\u001b[39;00m node \u001b[38;5;241m==\u001b[39m END \u001b[38;5;129;01mor\u001b[39;00m node \u001b[38;5;241m==\u001b[39m START:\n\u001b[0;32m    353\u001b[0m     \u001b[38;5;28;01mraise\u001b[39;00m \u001b[38;5;167;01mValueError\u001b[39;00m(\u001b[38;5;124mf\u001b[39m\u001b[38;5;124m\"\u001b[39m\u001b[38;5;124mNode `\u001b[39m\u001b[38;5;132;01m{\u001b[39;00mnode\u001b[38;5;132;01m}\u001b[39;00m\u001b[38;5;124m` is reserved.\u001b[39m\u001b[38;5;124m\"\u001b[39m)\n",
      "\u001b[1;31mValueError\u001b[0m: Node `query_or_respond` already present."
     ]
    }
   ],
   "source": [
    "from langgraph.graph import END\n",
    "from langgraph.prebuilt import ToolNode, tools_condition\n",
    "\n",
    "graph_builder.add_node(query_or_respond)\n",
    "graph_builder.add_node(tools)\n",
    "graph_builder.add_node(generate)\n",
    "\n",
    "graph_builder.set_entry_point(\"query_or_respond\")\n",
    "graph_builder.add_conditional_edges(\n",
    "    \"query_or_respond\",\n",
    "    tools_condition,\n",
    "    {END: END, \"tools\": \"tools\"},\n",
    ")\n",
    "graph_builder.add_edge(\"tools\", \"generate\")\n",
    "graph_builder.add_edge(\"generate\", END)\n",
    "\n",
    "graph = graph_builder.compile()"
   ]
  },
  {
   "cell_type": "code",
   "execution_count": 43,
   "metadata": {},
   "outputs": [
    {
     "data": {
      "image/png": "[encoded data removed]",
      "text/plain": [
       "<IPython.core.display.Image object>"
      ]
     },
     "metadata": {},
     "output_type": "display_data"
    }
   ],
   "source": [
    "from IPython.display import Image, display\n",
    "\n",
    "display(Image(graph.get_graph().draw_mermaid_png()))"
   ]
  },
  {
   "cell_type": "code",
   "execution_count": 52,
   "metadata": {},
   "outputs": [
    {
     "ename": "ValueError",
     "evalue": "Checkpointer requires one or more of the following 'configurable' keys: ['thread_id', 'checkpoint_ns', 'checkpoint_id']",
     "output_type": "error",
     "traceback": [
      "\u001b[1;31m---------------------------------------------------------------------------\u001b[0m",
      "\u001b[1;31mValueError\u001b[0m                                Traceback (most recent call last)",
      "Cell \u001b[1;32mIn[52], line 3\u001b[0m\n\u001b[0;32m      1\u001b[0m input_message \u001b[38;5;241m=\u001b[39m \u001b[38;5;124m\"\u001b[39m\u001b[38;5;124mSummarize the information stored in database\u001b[39m\u001b[38;5;124m\"\u001b[39m\n\u001b[1;32m----> 3\u001b[0m \u001b[38;5;28;01mfor\u001b[39;00m step \u001b[38;5;129;01min\u001b[39;00m graph\u001b[38;5;241m.\u001b[39mstream(\n\u001b[0;32m      4\u001b[0m     {\u001b[38;5;124m\"\u001b[39m\u001b[38;5;124mmessages\u001b[39m\u001b[38;5;124m\"\u001b[39m: [{\u001b[38;5;124m\"\u001b[39m\u001b[38;5;124mrole\u001b[39m\u001b[38;5;124m\"\u001b[39m: \u001b[38;5;124m\"\u001b[39m\u001b[38;5;124muser\u001b[39m\u001b[38;5;124m\"\u001b[39m, \u001b[38;5;124m\"\u001b[39m\u001b[38;5;124mcontent\u001b[39m\u001b[38;5;124m\"\u001b[39m: input_message}]},\n\u001b[0;32m      5\u001b[0m     stream_mode\u001b[38;5;241m=\u001b[39m\u001b[38;5;124m\"\u001b[39m\u001b[38;5;124mvalues\u001b[39m\u001b[38;5;124m\"\u001b[39m,\n\u001b[0;32m      6\u001b[0m ):\n\u001b[0;32m      7\u001b[0m     step[\u001b[38;5;124m\"\u001b[39m\u001b[38;5;124mmessages\u001b[39m\u001b[38;5;124m\"\u001b[39m][\u001b[38;5;241m-\u001b[39m\u001b[38;5;241m1\u001b[39m]\u001b[38;5;241m.\u001b[39mpretty_print()\n",
      "File \u001b[1;32mc:\\Users\\naran\\anaconda3\\envs\\legal_env\\lib\\site-packages\\langgraph\\pregel\\__init__.py:1644\u001b[0m, in \u001b[0;36mPregel.stream\u001b[1;34m(self, input, config, stream_mode, output_keys, interrupt_before, interrupt_after, debug, subgraphs)\u001b[0m\n\u001b[0;32m   1628\u001b[0m run_manager \u001b[38;5;241m=\u001b[39m callback_manager\u001b[38;5;241m.\u001b[39mon_chain_start(\n\u001b[0;32m   1629\u001b[0m     \u001b[38;5;28;01mNone\u001b[39;00m,\n\u001b[0;32m   1630\u001b[0m     \u001b[38;5;28minput\u001b[39m,\n\u001b[0;32m   1631\u001b[0m     name\u001b[38;5;241m=\u001b[39mconfig\u001b[38;5;241m.\u001b[39mget(\u001b[38;5;124m\"\u001b[39m\u001b[38;5;124mrun_name\u001b[39m\u001b[38;5;124m\"\u001b[39m, \u001b[38;5;28mself\u001b[39m\u001b[38;5;241m.\u001b[39mget_name()),\n\u001b[0;32m   1632\u001b[0m     run_id\u001b[38;5;241m=\u001b[39mconfig\u001b[38;5;241m.\u001b[39mget(\u001b[38;5;124m\"\u001b[39m\u001b[38;5;124mrun_id\u001b[39m\u001b[38;5;124m\"\u001b[39m),\n\u001b[0;32m   1633\u001b[0m )\n\u001b[0;32m   1634\u001b[0m \u001b[38;5;28;01mtry\u001b[39;00m:\n\u001b[0;32m   1635\u001b[0m     \u001b[38;5;66;03m# assign defaults\u001b[39;00m\n\u001b[0;32m   1636\u001b[0m     (\n\u001b[0;32m   1637\u001b[0m         debug,\n\u001b[0;32m   1638\u001b[0m         stream_modes,\n\u001b[0;32m   1639\u001b[0m         output_keys,\n\u001b[0;32m   1640\u001b[0m         interrupt_before_,\n\u001b[0;32m   1641\u001b[0m         interrupt_after_,\n\u001b[0;32m   1642\u001b[0m         checkpointer,\n\u001b[0;32m   1643\u001b[0m         store,\n\u001b[1;32m-> 1644\u001b[0m     ) \u001b[38;5;241m=\u001b[39m \u001b[38;5;28;43mself\u001b[39;49m\u001b[38;5;241;43m.\u001b[39;49m\u001b[43m_defaults\u001b[49m\u001b[43m(\u001b[49m\n\u001b[0;32m   1645\u001b[0m \u001b[43m        \u001b[49m\u001b[43mconfig\u001b[49m\u001b[43m,\u001b[49m\n\u001b[0;32m   1646\u001b[0m \u001b[43m        \u001b[49m\u001b[43mstream_mode\u001b[49m\u001b[38;5;241;43m=\u001b[39;49m\u001b[43mstream_mode\u001b[49m\u001b[43m,\u001b[49m\n\u001b[0;32m   1647\u001b[0m \u001b[43m        \u001b[49m\u001b[43moutput_keys\u001b[49m\u001b[38;5;241;43m=\u001b[39;49m\u001b[43moutput_keys\u001b[49m\u001b[43m,\u001b[49m\n\u001b[0;32m   1648\u001b[0m \u001b[43m        \u001b[49m\u001b[43minterrupt_before\u001b[49m\u001b[38;5;241;43m=\u001b[39;49m\u001b[43minterrupt_before\u001b[49m\u001b[43m,\u001b[49m\n\u001b[0;32m   1649\u001b[0m \u001b[43m        \u001b[49m\u001b[43minterrupt_after\u001b[49m\u001b[38;5;241;43m=\u001b[39;49m\u001b[43minterrupt_after\u001b[49m\u001b[43m,\u001b[49m\n\u001b[0;32m   1650\u001b[0m \u001b[43m        \u001b[49m\u001b[43mdebug\u001b[49m\u001b[38;5;241;43m=\u001b[39;49m\u001b[43mdebug\u001b[49m\u001b[43m,\u001b[49m\n\u001b[0;32m   1651\u001b[0m \u001b[43m    \u001b[49m\u001b[43m)\u001b[49m\n\u001b[0;32m   1652\u001b[0m     \u001b[38;5;66;03m# set up subgraph checkpointing\u001b[39;00m\n\u001b[0;32m   1653\u001b[0m     \u001b[38;5;28;01mif\u001b[39;00m \u001b[38;5;28mself\u001b[39m\u001b[38;5;241m.\u001b[39mcheckpointer \u001b[38;5;129;01mis\u001b[39;00m \u001b[38;5;28;01mTrue\u001b[39;00m:\n",
      "File \u001b[1;32mc:\\Users\\naran\\anaconda3\\envs\\legal_env\\lib\\site-packages\\langgraph\\pregel\\__init__.py:1458\u001b[0m, in \u001b[0;36mPregel._defaults\u001b[1;34m(self, config, stream_mode, output_keys, interrupt_before, interrupt_after, debug)\u001b[0m\n\u001b[0;32m   1456\u001b[0m     checkpointer \u001b[38;5;241m=\u001b[39m \u001b[38;5;28mself\u001b[39m\u001b[38;5;241m.\u001b[39mcheckpointer\n\u001b[0;32m   1457\u001b[0m \u001b[38;5;28;01mif\u001b[39;00m checkpointer \u001b[38;5;129;01mand\u001b[39;00m \u001b[38;5;129;01mnot\u001b[39;00m config\u001b[38;5;241m.\u001b[39mget(CONF):\n\u001b[1;32m-> 1458\u001b[0m     \u001b[38;5;28;01mraise\u001b[39;00m \u001b[38;5;167;01mValueError\u001b[39;00m(\n\u001b[0;32m   1459\u001b[0m         \u001b[38;5;124mf\u001b[39m\u001b[38;5;124m\"\u001b[39m\u001b[38;5;124mCheckpointer requires one or more of the following \u001b[39m\u001b[38;5;124m'\u001b[39m\u001b[38;5;124mconfigurable\u001b[39m\u001b[38;5;124m'\u001b[39m\u001b[38;5;124m keys: \u001b[39m\u001b[38;5;132;01m{\u001b[39;00m[s\u001b[38;5;241m.\u001b[39mid \u001b[38;5;28;01mfor\u001b[39;00m s \u001b[38;5;129;01min\u001b[39;00m checkpointer\u001b[38;5;241m.\u001b[39mconfig_specs]\u001b[38;5;132;01m}\u001b[39;00m\u001b[38;5;124m\"\u001b[39m\n\u001b[0;32m   1460\u001b[0m     )\n\u001b[0;32m   1461\u001b[0m \u001b[38;5;28;01mif\u001b[39;00m CONFIG_KEY_STORE \u001b[38;5;129;01min\u001b[39;00m config\u001b[38;5;241m.\u001b[39mget(CONF, {}):\n\u001b[0;32m   1462\u001b[0m     store: Optional[BaseStore] \u001b[38;5;241m=\u001b[39m config[CONF][CONFIG_KEY_STORE]\n",
      "\u001b[1;31mValueError\u001b[0m: Checkpointer requires one or more of the following 'configurable' keys: ['thread_id', 'checkpoint_ns', 'checkpoint_id']"
     ]
    }
   ],
   "source": [
    "input_message = \"Summarize the information stored in database\"\n",
    "\n",
    "for step in graph.stream(\n",
    "    {\"messages\": [{\"role\": \"user\", \"content\": input_message}]},\n",
    "    stream_mode=\"values\",\n",
    "):\n",
    "    step[\"messages\"][-1].pretty_print()"
   ]
  },
  {
   "cell_type": "code",
   "execution_count": 45,
   "metadata": {},
   "outputs": [],
   "source": [
    "from langgraph.checkpoint.memory import MemorySaver\n",
    "\n",
    "memory = MemorySaver()\n",
    "graph = graph_builder.compile(checkpointer=memory)\n",
    "\n",
    "# Specify an ID for the thread\n",
    "config = {\"configurable\": {\"thread_id\": \"abc123\"}}"
   ]
  },
  {
   "cell_type": "code",
   "execution_count": 46,
   "metadata": {},
   "outputs": [
    {
     "name": "stdout",
     "output_type": "stream",
     "text": [
      "================================\u001b[1m Human Message \u001b[0m=================================\n",
      "\n",
      "What is Task Decomposition?\n",
      "==================================\u001b[1m Ai Message \u001b[0m==================================\n",
      "Tool Calls:\n",
      "  retrieve (call_6xnq)\n",
      " Call ID: call_6xnq\n",
      "  Args:\n",
      "    query: What is Task Decomposition?\n",
      "=================================\u001b[1m Tool Message \u001b[0m=================================\n",
      "Name: retrieve\n",
      "\n",
      "Source: {'author': 'sylvie meynier', 'creationdate': \"D:20100809161642Z00'00'\", 'creator': 'Microsoft Word', 'file_path': '../data/raw/Easy_recipes.pdf', 'format': 'PDF 1.3', 'keywords': '', 'moddate': \"D:20100809161642Z00'00'\", 'page': 0.0, 'producer': 'Mac OS X 10.6.4 Quartz PDFContext', 'source': '../data/raw/Easy_recipes.pdf', 'subject': '', 'title': 'Easy recipes', 'total_pages': 15.0, 'trapped': ''}\n",
      "Content: Quick and easy recipes Start cooking today You can do it Cooking meals is much cheaper than eating outside. This is true everywhere but even more in Geneva... Take turns and cook for your roommate and your friends Youll save even more money and the kitchen will probably stay cleaner... I have selected only a few recipes from these websites: http://www.studentrecipes.com/ http://www.squidoo.com/studentfoodmodule55467342 Bon apptit\n",
      "\n",
      "Source: {'author': 'sylvie meynier', 'creationdate': \"D:20100809161642Z00'00'\", 'creator': 'Microsoft Word', 'file_path': '../data/raw/Easy_recipes.pdf', 'format': 'PDF 1.3', 'keywords': '', 'moddate': \"D:20100809161642Z00'00'\", 'page': 5.0, 'producer': 'Mac OS X 10.6.4 Quartz PDFContext', 'source': '../data/raw/Easy_recipes.pdf', 'subject': '', 'title': 'Easy recipes', 'total_pages': 15.0, 'trapped': ''}\n",
      "Content: 4. Thai Green Curry An Easy College Recipe for College Students to create an Authentic Thai Dish Having been to Thailand, this has to be one of my favourite dishes The photo is an authentic Thai green curry Ingredients 2 Chicken breasts 1 can coconut milk, or low fat coconut milk 1 Onion 1 Aubergine 1 Chopped green chilli Thai Green Curry Paste Method 1) To make the curry, cook the paste in a large non-stick wok or large frying pan over a low heat, for 5 minutes. Cut the chicken into strips and add to the pan with the chopped onion. Cook for 5-8 minutes or until no longer pink. Add the aubergine chopped.\n",
      "\n",
      "Source: {'author': 'sylvie meynier', 'creationdate': \"D:20100809161642Z00'00'\", 'creator': 'Microsoft Word', 'file_path': '../data/raw/Easy_recipes.pdf', 'format': 'PDF 1.3', 'keywords': '', 'moddate': \"D:20100809161642Z00'00'\", 'page': 9.0, 'producer': 'Mac OS X 10.6.4 Quartz PDFContext', 'source': '../data/raw/Easy_recipes.pdf', 'subject': '', 'title': 'Easy recipes', 'total_pages': 15.0, 'trapped': ''}\n",
      "Content: Break the eggs into the pan (OR beat them together in another bowl and tip into the frying pan) and stir the mixture up. At this point, you need to keep stirring the mixture, keeping the eggs moving. Keep going until the eggs have cooked, should take about 5-8 minutes maybe\n",
      "\n",
      "Source: {'author': 'sylvie meynier', 'creationdate': \"D:20100809161642Z00'00'\", 'creator': 'Microsoft Word', 'file_path': '../data/raw/Easy_recipes.pdf', 'format': 'PDF 1.3', 'keywords': '', 'moddate': \"D:20100809161642Z00'00'\", 'page': 5.0, 'producer': 'Mac OS X 10.6.4 Quartz PDFContext', 'source': '../data/raw/Easy_recipes.pdf', 'subject': '', 'title': 'Easy recipes', 'total_pages': 15.0, 'trapped': ''}\n",
      "Content: pan with the chopped onion. Cook for 5-8 minutes or until no longer pink. Add the aubergine chopped. 2) Stir in the coconut milk and simmer for about 10 minutes or until the chicken is cooked through. Scatter over the chilli and serve with rice\n",
      "\n",
      "Source: {'author': 'sylvie meynier', 'creationdate': \"D:20100809161642Z00'00'\", 'creator': 'Microsoft Word', 'file_path': '../data/raw/Easy_recipes.pdf', 'format': 'PDF 1.3', 'keywords': '', 'moddate': \"D:20100809161642Z00'00'\", 'page': 14.0, 'producer': 'Mac OS X 10.6.4 Quartz PDFContext', 'source': '../data/raw/Easy_recipes.pdf', 'subject': '', 'title': 'Easy recipes', 'total_pages': 15.0, 'trapped': ''}\n",
      "Content: 13. Cucumber salad Ingredients 1 cucumber, sliced 3 tbsp sugar 1/4 cup fresh lemon juice 8 oz. sour cream 1 tspn salt 1/2 tspn dill Method Dissolve sugar in lemon juice. Add sour cream, salt and dill. Mix with the cucumbers. 14. Goat cheese/beetroot salad Ingredients Lettuce/ Any leafy salad base you like Beetroot (cut into slices) Goats Cheese (cut into slices) Walnuts (Crush up abit) Balsamic Dressing (you can also make your own if you know how lol) Method Put lettuce/ leafy salad on a plate Add beetroot and goats cheese on the top Sprinkle crushed walnuts on top Drizzle balsamic dressing over\n",
      "\n",
      "Source: {'author': 'sylvie meynier', 'creationdate': \"D:20100809161642Z00'00'\", 'creator': 'Microsoft Word', 'file_path': '../data/raw/Easy_recipes.pdf', 'format': 'PDF 1.3', 'keywords': '', 'moddate': \"D:20100809161642Z00'00'\", 'page': 4.0, 'producer': 'Mac OS X 10.6.4 Quartz PDFContext', 'source': '../data/raw/Easy_recipes.pdf', 'subject': '', 'title': 'Easy recipes', 'total_pages': 15.0, 'trapped': ''}\n",
      "Content: fantastic in this dish 60g cooked shrimp 3 tbsp roasted peanuts (slightly ground) beansprouts mange tout or sugar snap peas Method 1. Soak the rice noodles in hot water for 20 minutes or until cooked 2. Heat some oil in a pan and add the two beaten and seasoned eggs to make an omlette. Transfer to a plate and chop into strips and leave to cool. 3. Heat some oil in the wok and add the chicken, once it is sealed on all sides add the garlic. 4. Add the spring onions and shrimp (if using) and stir fry for another minute 5. Add the chillis, drained noodles, fish sauce, lemon juice, sugar and peanuts\n",
      "\n",
      "Source: {'author': 'sylvie meynier', 'creationdate': \"D:20100809161642Z00'00'\", 'creator': 'Microsoft Word', 'file_path': '../data/raw/Easy_recipes.pdf', 'format': 'PDF 1.3', 'keywords': '', 'moddate': \"D:20100809161642Z00'00'\", 'page': 13.0, 'producer': 'Mac OS X 10.6.4 Quartz PDFContext', 'source': '../data/raw/Easy_recipes.pdf', 'subject': '', 'title': 'Easy recipes', 'total_pages': 15.0, 'trapped': ''}\n",
      "Content: Method Heat oil in a heavy-based pan and add onion, stirring over a moderate heat for 1-2 minutes. Add mince, stirring constantly until well browned. Stir in remaining ingredients. Cover and simmer gently for about 30 minutes, or until cooked through (if using chopped tomatoes this will take a bit longer. Serve with your favourite spaghetti, bread and salad.\n",
      "\n",
      "Source: {'author': 'sylvie meynier', 'creationdate': \"D:20100809161642Z00'00'\", 'creator': 'Microsoft Word', 'file_path': '../data/raw/Easy_recipes.pdf', 'format': 'PDF 1.3', 'keywords': '', 'moddate': \"D:20100809161642Z00'00'\", 'page': 1.0, 'producer': 'Mac OS X 10.6.4 Quartz PDFContext', 'source': '../data/raw/Easy_recipes.pdf', 'subject': '', 'title': 'Easy recipes', 'total_pages': 15.0, 'trapped': ''}\n",
      "Content: INDEX 1. Chili con carne 2. Beef in beer 3. Pad Thai Chicken 4. Thai Green Curry 5. Pineapple chicken 6. Vegetarian rice 7. Omelette 8. Egg fried rice 9. Salmon in the oven 10. Basic pasta 11. Carbonara al funghi 12. Simple spaghetti bolognaise 13. Cucumber salad 14. Goat cheese and Beetroot salad\n",
      "\n",
      "Source: {'author': 'sylvie meynier', 'creationdate': \"D:20100809161642Z00'00'\", 'creator': 'Microsoft Word', 'file_path': '../data/raw/Easy_recipes.pdf', 'format': 'PDF 1.3', 'keywords': '', 'moddate': \"D:20100809161642Z00'00'\", 'page': 7.0, 'producer': 'Mac OS X 10.6.4 Quartz PDFContext', 'source': '../data/raw/Easy_recipes.pdf', 'subject': '', 'title': 'Easy recipes', 'total_pages': 15.0, 'trapped': ''}\n",
      "Content: carrot and chopped pepper 3)Stir well for a further 3 mins then add the dried rice 4)Stir rice in well with the vegetables 5)Once rice os distributed well throughout the mixture add the stock- leave to boil 6)Once boiled immediately turn heat down to simmer and cover. Cook for 10 mins 7)Add in chopped tomatoes and frozen peas and stir 8)Cover and simmer for a further 10 mins 9)Once cooked stir in dried parsely with seasoning 10)Spoon rice into 2 dishes\n",
      "\n",
      "Source: {'author': 'sylvie meynier', 'creationdate': \"D:20100809161642Z00'00'\", 'creator': 'Microsoft Word', 'file_path': '../data/raw/Easy_recipes.pdf', 'format': 'PDF 1.3', 'keywords': '', 'moddate': \"D:20100809161642Z00'00'\", 'page': 8.0, 'producer': 'Mac OS X 10.6.4 Quartz PDFContext', 'source': '../data/raw/Easy_recipes.pdf', 'subject': '', 'title': 'Easy recipes', 'total_pages': 15.0, 'trapped': ''}\n",
      "Content: 7. Omelette Ingredients 3 Eggs Salt and Pepper Butter Grated cheese (optional) Mixed herbs (optional) Method 1) Mix the eggs in any sort of bowl or jug you like (a pint glass works well) with salt, pepper and herbs if desired. 2) Heat the butter (or oil) in a reasonably large frying pan. 3) Pour in the egg mixture slowly and swirl the pan a little to even it out. 4) After 30 seconds or so the top should firm up, at this point add grated cheese if you like. 5) Continue cooking a little until the cheese begins to melt, then fold the omelette in half with a bendy spatula\n",
      "==================================\u001b[1m Ai Message \u001b[0m==================================\n",
      "\n",
      "I don't know the answer to that question. The context provided does not mention Task Decomposition. It appears to be a collection of recipes, and I'm not familiar with any specific mention of Task Decomposition in the provided texts. If you'd like to provide more information or clarify the question, I'd be happy to try and assist you.\n"
     ]
    }
   ],
   "source": [
    "input_message = \"What is Task Decomposition?\"\n",
    "\n",
    "for step in graph.stream(\n",
    "    {\"messages\": [{\"role\": \"user\", \"content\": input_message}]},\n",
    "    stream_mode=\"values\",\n",
    "    config=config,\n",
    "):\n",
    "    step[\"messages\"][-1].pretty_print()"
   ]
  },
  {
   "cell_type": "code",
   "execution_count": 47,
   "metadata": {},
   "outputs": [],
   "source": [
    "from langgraph.prebuilt import create_react_agent\n",
    "\n",
    "agent_executor = create_react_agent(llm, [retrieve], checkpointer=memory)"
   ]
  },
  {
   "cell_type": "code",
   "execution_count": 48,
   "metadata": {},
   "outputs": [
    {
     "data": {
      "image/png": "[encoded data removed]",
      "text/plain": [
       "<IPython.core.display.Image object>"
      ]
     },
     "metadata": {},
     "output_type": "display_data"
    }
   ],
   "source": [
    "display(Image(agent_executor.get_graph().draw_mermaid_png()))"
   ]
  },
  {
   "cell_type": "code",
   "execution_count": 51,
   "metadata": {},
   "outputs": [
    {
     "name": "stdout",
     "output_type": "stream",
     "text": [
      "================================\u001b[1m Human Message \u001b[0m=================================\n",
      "\n",
      "Summarize all data in database\n",
      "\n",
      "Once you get the answer, refine it \n",
      "==================================\u001b[1m Ai Message \u001b[0m==================================\n",
      "\n",
      "To summarize all data in a database, one common method is to use a combination of techniques such as:\n",
      "\n",
      "1. Data aggregation: Grouping data into categories or subsets based on common attributes or characteristics.\n",
      "2. Data summarization: Reducing data to its most important or relevant information, such as averages, totals, or counts.\n",
      "3. Data visualization: Representing data in a graphical or chart format to make it easier to understand and analyze.\n",
      "\n",
      "Here's a step-by-step approach to summarizing data in a database:\n",
      "\n",
      "1. Identify the data: Determine what data you want to summarize and why.\n",
      "2. Clean and preprocess the data: Remove any unnecessary data, correct errors, and transform the data into a suitable format for analysis.\n",
      "3. Apply data aggregation: Group the data into categories or subsets based on common attributes or characteristics.\n",
      "4. Apply data summarization: Reduce the data to its most important or relevant information.\n",
      "5. Visualize the data: Represent the summarized data in a graphical or chart format.\n",
      "6. Refine the summary: Refine the summary by drilling down into specific details, or by using additional data or techniques to gain a deeper understanding of the data.\n",
      "\n",
      "Common techniques for refining a summary include:\n",
      "\n",
      "1. Drill-down analysis: Examining specific details or subsets of the data to gain a deeper understanding of the trends and patterns.\n",
      "2. Data filtering: Filtering the data to focus on specific subsets or criteria.\n",
      "3. Data sorting: Sorting the data by specific attributes or criteria.\n",
      "4. Data grouping: Grouping the data by specific attributes or criteria.\n",
      "5. Data aggregation: Aggregating the data by specific attributes or criteria.\n",
      "6. Data visualization: Visualizing the data in different formats or using different visualization tools.\n",
      "\n",
      "By combining these techniques, you can refine your summary and gain a more detailed and nuanced understanding of the data.\n"
     ]
    }
   ],
   "source": [
    "config = {\"configurable\": {\"thread_id\": \"def234\"}}\n",
    "\n",
    "input_message = (\n",
    "    \"Summarize all data in database\\n\\n\"\n",
    "    \"Once you get the answer, refine it \"\n",
    ")\n",
    "\n",
    "for event in agent_executor.stream(\n",
    "    {\"messages\": [{\"role\": \"user\", \"content\": input_message}]},\n",
    "    stream_mode=\"values\",\n",
    "    config=config,\n",
    "):\n",
    "    event[\"messages\"][-1].pretty_print()"
   ]
  },
  {
   "cell_type": "code",
   "execution_count": 53,
   "metadata": {},
   "outputs": [
    {
     "name": "stdout",
     "output_type": "stream",
     "text": [
      "================================\u001b[1m Human Message \u001b[0m=================================\n",
      "\n",
      "Summarize all legal documents in the database\n",
      "==================================\u001b[1m Ai Message \u001b[0m==================================\n",
      "Tool Calls:\n",
      "  summarize_database (call_njwa)\n",
      " Call ID: call_njwa\n",
      "  Args:\n",
      "    query: Provide summary of all legal documents\n",
      "=================================\u001b[1m Tool Message \u001b[0m=================================\n",
      "Name: summarize_database\n",
      "\n",
      "**Summary of Easy Recipes**\n",
      "\n",
      "The documents provided contain a collection of easy recipes, including dishes such as Chilli con Carne, Beef in Beer, Pad Thai Chicken, Thai Green Curry, and many more. The recipes are simple to follow and require minimal ingredients and cooking skills.\n",
      "\n",
      "**Key Points:**\n",
      "\n",
      "1. Most recipes can be prepared in under 30 minutes and require minimal ingredients.\n",
      "2. Many recipes can be cooked in a single pan or casserole dish, making cleanup easy.\n",
      "3. Some recipes, such as the Chilli con Carne, can be made in bulk and stored in the fridge for days or frozen for weeks.\n",
      "4. The recipes include a variety of international flavors, such as Thai and Italian, and can be easily adapted to suit individual tastes.\n",
      "5. Many recipes can be served with a variety of sides, such as rice, pasta, or vegetables.\n",
      "\n",
      "**Notable Cases:**\n",
      "\n",
      "1. The Chilli con Carne recipe is a classic student dish that can be made in large quantities and stored for later use.\n",
      "2. The Pad Thai Chicken recipe is a popular Thai dish that can be made with minimal ingredients and cooking skills.\n",
      "3. The Thai Green Curry recipe is a flavorful and easy-to-make dish that can be served with a variety of sides.\n",
      "\n",
      "**Critical Legal Interpretations:**\n",
      "\n",
      "None applicable, as these documents are recipes and not legal documents.\n",
      "\n",
      "**Conclusion:**\n",
      "\n",
      "The documents provided contain a collection of easy recipes that are perfect for students, busy professionals, or anyone looking for quick and delicious meals. The recipes are simple to follow and require minimal ingredients and cooking skills, making them accessible to a wide range of individuals.\n",
      "==================================\u001b[1m Ai Message \u001b[0m==================================\n",
      "\n",
      "I apologize for the mistake. It seems that I was incorrectly called to summarize legal documents, but instead, I was provided with a summary of easy recipes.\n",
      "\n",
      "Let me try again. Please provide me with the correct information or tools to summarize the legal documents in the database.\n"
     ]
    }
   ],
   "source": [
    "# %% Add a new summarization tool\n",
    "@tool(response_format=\"content_and_artifact\")\n",
    "def summarize_database(query: str = \"Provide summary of all content\"):\n",
    "    \"\"\"Summarizes comprehensive content from the database. Use this when asked for overviews or summaries.\"\"\"\n",
    "    # Retrieve more documents for better context\n",
    "    retrieved_docs = vector_store.similarity_search(query, k=20)  # Increased from 10 to 20\n",
    "    combined_content = \"\\n\\n\".join(\n",
    "        f\"Source: {doc.metadata}\\nContent: {doc.page_content}\" \n",
    "        for doc in retrieved_docs\n",
    "    )\n",
    "    \n",
    "    # Specialized summarization prompt\n",
    "    prompt = [\n",
    "        SystemMessage(\n",
    "            \"You are a legal document summarization expert. Create a comprehensive summary \"\n",
    "            \"that includes key points, notable cases, and critical legal interpretations from \"\n",
    "            \"these documents:\\n\\n\" + combined_content\n",
    "        )\n",
    "    ]\n",
    "    summary = llm.invoke(prompt)\n",
    "    return summary.content, retrieved_docs\n",
    "\n",
    "# %% Update your agent with both tools\n",
    "agent_executor = create_react_agent(\n",
    "    llm, \n",
    "    [retrieve, summarize_database],  # Add new summarization tool\n",
    "    checkpointer=memory\n",
    ")\n",
    "\n",
    "# %% You can now use either tool\n",
    "input_message = \"Summarize all legal documents in the database\"\n",
    "\n",
    "for event in agent_executor.stream(\n",
    "    {\"messages\": [{\"role\": \"user\", \"content\": input_message}]},\n",
    "    stream_mode=\"values\",\n",
    "    config={\"configurable\": {\"thread_id\": \"summary123\"}},\n",
    "):\n",
    "    event[\"messages\"][-1].pretty_print()"
   ]
  },
  {
   "cell_type": "code",
   "execution_count": null,
   "metadata": {},
   "outputs": [],
   "source": []
  }
 ],
 "metadata": {
  "kernelspec": {
   "display_name": "legal_env",
   "language": "python",
   "name": "python3"
  },
  "language_info": {
   "codemirror_mode": {
    "name": "ipython",
    "version": 3
   },
   "file_extension": ".py",
   "mimetype": "text/x-python",
   "name": "python",
   "nbconvert_exporter": "python",
   "pygments_lexer": "ipython3",
   "version": "3.10.16"
  }
 },
 "nbformat": 4,
 "nbformat_minor": 2
}
