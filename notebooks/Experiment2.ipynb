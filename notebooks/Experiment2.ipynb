{
 "cells": [
  {
   "cell_type": "markdown",
   "metadata": {
    "vscode": {
     "languageId": "plaintext"
    }
   },
   "source": [
    "# In this notebook I will Try to connect the rag model for pdf ingestion and use pinecone as vector database\n"
   ]
  },
  {
   "cell_type": "code",
   "execution_count": 1,
   "metadata": {},
   "outputs": [
    {
     "name": "stderr",
     "output_type": "stream",
     "text": [
      "c:\\Users\\naran\\anaconda3\\envs\\legal_env\\lib\\site-packages\\tqdm\\auto.py:21: TqdmWarning: IProgress not found. Please update jupyter and ipywidgets. See https://ipywidgets.readthedocs.io/en/stable/user_install.html\n",
      "  from .autonotebook import tqdm as notebook_tqdm\n"
     ]
    }
   ],
   "source": [
    "# We will be using these PDF loaders but you can check out other loaded documents\n",
    "from langchain_community.document_loaders import PyMuPDFLoader\n",
    "from langchain_community.document_loaders import UnstructuredPDFLoader\n",
    "from rich import print\n",
    "import re\n",
    "from transformers import AutoTokenizer\n",
    "from dotenv import load_dotenv\n",
    "import os\n",
    "from pinecone import Pinecone, ServerlessSpec\n",
    "\n",
    "os.environ[\"PINECONE_API_KEY\"] = os.getenv(\"PINECONE_API_KEY\")\n",
    "\n",
    "load_dotenv()\n",
    "\n",
    "EMBEDDING_MODEL = \"sentence-transformers/paraphrase-MiniLM-L6-v2\"\n",
    "\n",
    "# This is the name of the report which should be in the directory\n",
    "# You can download the precise PDF I am using from here https://www.pc.gov.pk/uploads/archives/PSDP_2023-24.pdf\n",
    "\n",
    "name = '../data/raw/Easy_recipes.pdf'\n",
    "\n",
    "# This loader uses PyMuPDF\n",
    "loader_py = PyMuPDFLoader(name)\n",
    "\n",
    "# Storing the loaded documents as langChain Document object\n",
    "pages_py = loader_py.load()\n"
   ]
  },
  {
   "cell_type": "code",
   "execution_count": 2,
   "metadata": {},
   "outputs": [
    {
     "data": {
      "text/html": [
       "<pre style=\"white-space:pre;overflow-x:auto;line-height:normal;font-family:Menlo,'DejaVu Sans Mono',consolas,'Courier New',monospace\">Quick     and     easy    recipes         \n",
       "          \n",
       "Start     cooking         today!          \n",
       "You       can     do      it!     \n",
       "          \n",
       "Cooking   meals   is      much    cheaper         than    eating          outside.        This    is      true    \n",
       "everywhere      \n",
       "but       even    more    in      Geneva<span style=\"color: #808000; text-decoration-color: #808000\">...</span>       Take    turns   and     cook    for     your    roommate        \n",
       "and     your    \n",
       "friends!          You’ll          save    even    more    money   –       and     the     kitchen         will    \n",
       "probably        stay    \n",
       "cleaner<span style=\"color: #808000; text-decoration-color: #808000\">...</span>        \n",
       "          \n",
       "I         have    selected        only    a       few     recipes         from    these   websites:       \n",
       "<span style=\"color: #0000ff; text-decoration-color: #0000ff; text-decoration: underline\">http://www.studentrecipes.com/</span>    \n",
       "<span style=\"color: #0000ff; text-decoration-color: #0000ff; text-decoration: underline\">http://www.squidoo.com/studentfood#module55467342</span>         \n",
       "          \n",
       "          \n",
       "Bon       appétit!\n",
       "</pre>\n"
      ],
      "text/plain": [
       "Quick     and     easy    recipes         \n",
       "          \n",
       "Start     cooking         today!          \n",
       "You       can     do      it!     \n",
       "          \n",
       "Cooking   meals   is      much    cheaper         than    eating          outside.        This    is      true    \n",
       "everywhere      \n",
       "but       even    more    in      Geneva\u001b[33m...\u001b[0m       Take    turns   and     cook    for     your    roommate        \n",
       "and     your    \n",
       "friends!          You’ll          save    even    more    money   –       and     the     kitchen         will    \n",
       "probably        stay    \n",
       "cleaner\u001b[33m...\u001b[0m        \n",
       "          \n",
       "I         have    selected        only    a       few     recipes         from    these   websites:       \n",
       "\u001b[4;94mhttp://www.studentrecipes.com/\u001b[0m    \n",
       "\u001b[4;94mhttp://www.squidoo.com/studentfood#module55467342\u001b[0m         \n",
       "          \n",
       "          \n",
       "Bon       appétit!\n"
      ]
     },
     "metadata": {},
     "output_type": "display_data"
    },
    {
     "data": {
      "text/html": [
       "<pre style=\"white-space:pre;overflow-x:auto;line-height:normal;font-family:Menlo,'DejaVu Sans Mono',consolas,'Courier New',monospace\"><span style=\"color: #008080; text-decoration-color: #008080; font-weight: bold\">15</span>\n",
       "</pre>\n"
      ],
      "text/plain": [
       "\u001b[1;36m15\u001b[0m\n"
      ]
     },
     "metadata": {},
     "output_type": "display_data"
    }
   ],
   "source": [
    "print(pages_py[0].page_content)\n",
    "print(len(pages_py))"
   ]
  },
  {
   "cell_type": "code",
   "execution_count": 3,
   "metadata": {},
   "outputs": [
    {
     "data": {
      "text/html": [
       "<pre style=\"white-space:pre;overflow-x:auto;line-height:normal;font-family:Menlo,'DejaVu Sans Mono',consolas,'Courier New',monospace\"><span style=\"color: #800080; text-decoration-color: #800080; font-weight: bold\">Document</span><span style=\"font-weight: bold\">(</span>\n",
       "    <span style=\"color: #808000; text-decoration-color: #808000\">metadata</span>=<span style=\"font-weight: bold\">{</span>\n",
       "        <span style=\"color: #008000; text-decoration-color: #008000\">'producer'</span>: <span style=\"color: #008000; text-decoration-color: #008000\">'Mac OS X 10.6.4 Quartz PDFContext'</span>,\n",
       "        <span style=\"color: #008000; text-decoration-color: #008000\">'creator'</span>: <span style=\"color: #008000; text-decoration-color: #008000\">'Microsoft Word'</span>,\n",
       "        <span style=\"color: #008000; text-decoration-color: #008000\">'creationdate'</span>: <span style=\"color: #008000; text-decoration-color: #008000\">\"D:20100809161642Z00'00'\"</span>,\n",
       "        <span style=\"color: #008000; text-decoration-color: #008000\">'source'</span>: <span style=\"color: #008000; text-decoration-color: #008000\">'../data/raw/Easy_recipes.pdf'</span>,\n",
       "        <span style=\"color: #008000; text-decoration-color: #008000\">'file_path'</span>: <span style=\"color: #008000; text-decoration-color: #008000\">'../data/raw/Easy_recipes.pdf'</span>,\n",
       "        <span style=\"color: #008000; text-decoration-color: #008000\">'total_pages'</span>: <span style=\"color: #008080; text-decoration-color: #008080; font-weight: bold\">15</span>,\n",
       "        <span style=\"color: #008000; text-decoration-color: #008000\">'format'</span>: <span style=\"color: #008000; text-decoration-color: #008000\">'PDF 1.3'</span>,\n",
       "        <span style=\"color: #008000; text-decoration-color: #008000\">'title'</span>: <span style=\"color: #008000; text-decoration-color: #008000\">'Easy recipes'</span>,\n",
       "        <span style=\"color: #008000; text-decoration-color: #008000\">'author'</span>: <span style=\"color: #008000; text-decoration-color: #008000\">'sylvie meynier'</span>,\n",
       "        <span style=\"color: #008000; text-decoration-color: #008000\">'subject'</span>: <span style=\"color: #008000; text-decoration-color: #008000\">''</span>,\n",
       "        <span style=\"color: #008000; text-decoration-color: #008000\">'keywords'</span>: <span style=\"color: #008000; text-decoration-color: #008000\">''</span>,\n",
       "        <span style=\"color: #008000; text-decoration-color: #008000\">'moddate'</span>: <span style=\"color: #008000; text-decoration-color: #008000\">\"D:20100809161642Z00'00'\"</span>,\n",
       "        <span style=\"color: #008000; text-decoration-color: #008000\">'trapped'</span>: <span style=\"color: #008000; text-decoration-color: #008000\">''</span>,\n",
       "        <span style=\"color: #008000; text-decoration-color: #008000\">'page'</span>: <span style=\"color: #008080; text-decoration-color: #008080; font-weight: bold\">0</span>\n",
       "    <span style=\"font-weight: bold\">}</span>,\n",
       "    <span style=\"color: #808000; text-decoration-color: #808000\">page_content</span>=<span style=\"color: #008000; text-decoration-color: #008000\">'Quick\\t\\r \\xa0and\\t\\r \\xa0easy\\t\\r \\xa0recipes\\t\\r \\xa0\\n\\t\\r \\xa0\\nStart\\t\\r \\xa0cooking\\t\\r </span>\n",
       "<span style=\"color: #008000; text-decoration-color: #008000\">\\xa0today!\\t\\r \\xa0\\nYou\\t\\r \\xa0can\\t\\r \\xa0do\\t\\r \\xa0it!\\t\\r \\xa0\\n\\t\\r \\xa0\\nCooking\\t\\r \\xa0meals\\t\\r </span>\n",
       "<span style=\"color: #008000; text-decoration-color: #008000\">\\xa0is\\t\\r \\xa0much\\t\\r \\xa0cheaper\\t\\r \\xa0than\\t\\r \\xa0eating\\t\\r \\xa0outside.\\t\\r \\xa0This\\t\\r \\xa0is\\t\\r </span>\n",
       "<span style=\"color: #008000; text-decoration-color: #008000\">\\xa0true\\t\\r \\xa0everywhere\\t\\r \\xa0\\nbut\\t\\r \\xa0even\\t\\r \\xa0more\\t\\r \\xa0in\\t\\r \\xa0Geneva...\\t\\r \\xa0Take\\t\\r </span>\n",
       "<span style=\"color: #008000; text-decoration-color: #008000\">\\xa0turns\\t\\r \\xa0and\\t\\r \\xa0cook\\t\\r \\xa0for\\t\\r \\xa0your\\t\\r \\xa0roommate\\t\\r \\xa0and\\t\\r \\xa0your\\t\\r </span>\n",
       "<span style=\"color: #008000; text-decoration-color: #008000\">\\xa0\\nfriends!\\t\\r \\xa0You’ll\\t\\r \\xa0save\\t\\r \\xa0even\\t\\r \\xa0more\\t\\r \\xa0money\\t\\r \\xa0–\\t\\r \\xa0and\\t\\r </span>\n",
       "<span style=\"color: #008000; text-decoration-color: #008000\">\\xa0the\\t\\r \\xa0kitchen\\t\\r \\xa0will\\t\\r \\xa0probably\\t\\r \\xa0stay\\t\\r \\xa0\\ncleaner...\\t\\r \\xa0\\n\\t\\r \\xa0\\nI\\t\\r </span>\n",
       "<span style=\"color: #008000; text-decoration-color: #008000\">\\xa0have\\t\\r \\xa0selected\\t\\r \\xa0only\\t\\r \\xa0a\\t\\r \\xa0few\\t\\r \\xa0recipes\\t\\r \\xa0from\\t\\r \\xa0these\\t\\r </span>\n",
       "<span style=\"color: #008000; text-decoration-color: #008000\">\\xa0websites:\\t\\r \\xa0\\nhttp://www.studentrecipes.com/\\t\\r </span>\n",
       "<span style=\"color: #008000; text-decoration-color: #008000\">\\xa0\\nhttp://www.squidoo.com/studentfood#module55467342\\t\\r \\xa0\\n\\t\\r \\xa0\\n\\t\\r \\xa0\\nBon\\t\\r \\xa0appétit!'</span>\n",
       "<span style=\"font-weight: bold\">)</span>\n",
       "</pre>\n"
      ],
      "text/plain": [
       "\u001b[1;35mDocument\u001b[0m\u001b[1m(\u001b[0m\n",
       "    \u001b[33mmetadata\u001b[0m=\u001b[1m{\u001b[0m\n",
       "        \u001b[32m'producer'\u001b[0m: \u001b[32m'Mac OS X 10.6.4 Quartz PDFContext'\u001b[0m,\n",
       "        \u001b[32m'creator'\u001b[0m: \u001b[32m'Microsoft Word'\u001b[0m,\n",
       "        \u001b[32m'creationdate'\u001b[0m: \u001b[32m\"D:20100809161642Z00'00'\"\u001b[0m,\n",
       "        \u001b[32m'source'\u001b[0m: \u001b[32m'../data/raw/Easy_recipes.pdf'\u001b[0m,\n",
       "        \u001b[32m'file_path'\u001b[0m: \u001b[32m'../data/raw/Easy_recipes.pdf'\u001b[0m,\n",
       "        \u001b[32m'total_pages'\u001b[0m: \u001b[1;36m15\u001b[0m,\n",
       "        \u001b[32m'format'\u001b[0m: \u001b[32m'PDF 1.3'\u001b[0m,\n",
       "        \u001b[32m'title'\u001b[0m: \u001b[32m'Easy recipes'\u001b[0m,\n",
       "        \u001b[32m'author'\u001b[0m: \u001b[32m'sylvie meynier'\u001b[0m,\n",
       "        \u001b[32m'subject'\u001b[0m: \u001b[32m''\u001b[0m,\n",
       "        \u001b[32m'keywords'\u001b[0m: \u001b[32m''\u001b[0m,\n",
       "        \u001b[32m'moddate'\u001b[0m: \u001b[32m\"D:20100809161642Z00'00'\"\u001b[0m,\n",
       "        \u001b[32m'trapped'\u001b[0m: \u001b[32m''\u001b[0m,\n",
       "        \u001b[32m'page'\u001b[0m: \u001b[1;36m0\u001b[0m\n",
       "    \u001b[1m}\u001b[0m,\n",
       "    \u001b[33mpage_content\u001b[0m=\u001b[32m'Quick\\t\\r \\xa0and\\t\\r \\xa0easy\\t\\r \\xa0recipes\\t\\r \\xa0\\n\\t\\r \\xa0\\nStart\\t\\r \\xa0cooking\\t\\r \u001b[0m\n",
       "\u001b[32m\\xa0today!\\t\\r \\xa0\\nYou\\t\\r \\xa0can\\t\\r \\xa0do\\t\\r \\xa0it!\\t\\r \\xa0\\n\\t\\r \\xa0\\nCooking\\t\\r \\xa0meals\\t\\r \u001b[0m\n",
       "\u001b[32m\\xa0is\\t\\r \\xa0much\\t\\r \\xa0cheaper\\t\\r \\xa0than\\t\\r \\xa0eating\\t\\r \\xa0outside.\\t\\r \\xa0This\\t\\r \\xa0is\\t\\r \u001b[0m\n",
       "\u001b[32m\\xa0true\\t\\r \\xa0everywhere\\t\\r \\xa0\\nbut\\t\\r \\xa0even\\t\\r \\xa0more\\t\\r \\xa0in\\t\\r \\xa0Geneva...\\t\\r \\xa0Take\\t\\r \u001b[0m\n",
       "\u001b[32m\\xa0turns\\t\\r \\xa0and\\t\\r \\xa0cook\\t\\r \\xa0for\\t\\r \\xa0your\\t\\r \\xa0roommate\\t\\r \\xa0and\\t\\r \\xa0your\\t\\r \u001b[0m\n",
       "\u001b[32m\\xa0\\nfriends!\\t\\r \\xa0You’ll\\t\\r \\xa0save\\t\\r \\xa0even\\t\\r \\xa0more\\t\\r \\xa0money\\t\\r \\xa0–\\t\\r \\xa0and\\t\\r \u001b[0m\n",
       "\u001b[32m\\xa0the\\t\\r \\xa0kitchen\\t\\r \\xa0will\\t\\r \\xa0probably\\t\\r \\xa0stay\\t\\r \\xa0\\ncleaner...\\t\\r \\xa0\\n\\t\\r \\xa0\\nI\\t\\r \u001b[0m\n",
       "\u001b[32m\\xa0have\\t\\r \\xa0selected\\t\\r \\xa0only\\t\\r \\xa0a\\t\\r \\xa0few\\t\\r \\xa0recipes\\t\\r \\xa0from\\t\\r \\xa0these\\t\\r \u001b[0m\n",
       "\u001b[32m\\xa0websites:\\t\\r \\xa0\\nhttp://www.studentrecipes.com/\\t\\r \u001b[0m\n",
       "\u001b[32m\\xa0\\nhttp://www.squidoo.com/studentfood#module55467342\\t\\r \\xa0\\n\\t\\r \\xa0\\n\\t\\r \\xa0\\nBon\\t\\r \\xa0appétit!'\u001b[0m\n",
       "\u001b[1m)\u001b[0m\n"
      ]
     },
     "metadata": {},
     "output_type": "display_data"
    },
    {
     "data": {
      "text/html": [
       "<pre style=\"white-space:pre;overflow-x:auto;line-height:normal;font-family:Menlo,'DejaVu Sans Mono',consolas,'Courier New',monospace\"><span style=\"color: #008080; text-decoration-color: #008080; font-weight: bold\">29</span>\n",
       "</pre>\n"
      ],
      "text/plain": [
       "\u001b[1;36m29\u001b[0m\n"
      ]
     },
     "metadata": {},
     "output_type": "display_data"
    }
   ],
   "source": [
    "# text splitter\n",
    "from langchain.text_splitter import CharacterTextSplitter\n",
    "text_splitter = CharacterTextSplitter(\n",
    "    # shows how to seperate\n",
    "    separator=\"\\n\",\n",
    "    # Shows the document token length\n",
    "    chunk_size=1000,\n",
    "    # How much overlap should exist between documents\n",
    "    chunk_overlap=150,\n",
    "    # How to measure length\n",
    "    length_function=len\n",
    ")\n",
    "\n",
    "# Applying the splitter\n",
    "docs = text_splitter.split_documents(pages_py)\n",
    "\n",
    "print(docs[0])\n",
    "print(len(docs))"
   ]
  },
  {
   "cell_type": "code",
   "execution_count": 4,
   "metadata": {},
   "outputs": [],
   "source": [
    "def clean_text(text):\n",
    "    # Remove non-printable characters\n",
    "    text = re.sub(r'[^\\x20-\\x7E]', '', text)\n",
    "    \n",
    "    # Remove excessive spaces, newlines, and tabs\n",
    "    text = re.sub(r'\\s+', ' ', text).strip()\n",
    "    \n",
    "    # Remove unwanted special characters but keep medical symbols\n",
    "    text = re.sub(r'[^\\w\\s.,:;/%°±()\\-]', '', text)  \n",
    "    text = re.sub(r'[\\t\\r\\xa0]', ' ', text)  # Replace \\t, \\r, and \\xa0 with a space\n",
    "    text = re.sub(r'\\n+', '\\n', text)  # Keep meaningful line breaks\n",
    "    text = re.sub(r' +', ' ', text).strip()  # Remove excessive space\n",
    "\n",
    "    return text  "
   ]
  },
  {
   "cell_type": "code",
   "execution_count": 6,
   "metadata": {},
   "outputs": [],
   "source": [
    "from langchain_core.documents import Document\n",
    "docs = [Document(clean_text(doc.page_content),metadata=doc.metadata) for doc in docs]"
   ]
  },
  {
   "cell_type": "code",
   "execution_count": 7,
   "metadata": {},
   "outputs": [
    {
     "data": {
      "text/html": [
       "<pre style=\"white-space:pre;overflow-x:auto;line-height:normal;font-family:Menlo,'DejaVu Sans Mono',consolas,'Courier New',monospace\"><span style=\"color: #800080; text-decoration-color: #800080; font-weight: bold\">Document</span><span style=\"font-weight: bold\">(</span>\n",
       "    <span style=\"color: #808000; text-decoration-color: #808000\">metadata</span>=<span style=\"font-weight: bold\">{</span>\n",
       "        <span style=\"color: #008000; text-decoration-color: #008000\">'producer'</span>: <span style=\"color: #008000; text-decoration-color: #008000\">'Mac OS X 10.6.4 Quartz PDFContext'</span>,\n",
       "        <span style=\"color: #008000; text-decoration-color: #008000\">'creator'</span>: <span style=\"color: #008000; text-decoration-color: #008000\">'Microsoft Word'</span>,\n",
       "        <span style=\"color: #008000; text-decoration-color: #008000\">'creationdate'</span>: <span style=\"color: #008000; text-decoration-color: #008000\">\"D:20100809161642Z00'00'\"</span>,\n",
       "        <span style=\"color: #008000; text-decoration-color: #008000\">'source'</span>: <span style=\"color: #008000; text-decoration-color: #008000\">'../data/raw/Easy_recipes.pdf'</span>,\n",
       "        <span style=\"color: #008000; text-decoration-color: #008000\">'file_path'</span>: <span style=\"color: #008000; text-decoration-color: #008000\">'../data/raw/Easy_recipes.pdf'</span>,\n",
       "        <span style=\"color: #008000; text-decoration-color: #008000\">'total_pages'</span>: <span style=\"color: #008080; text-decoration-color: #008080; font-weight: bold\">15</span>,\n",
       "        <span style=\"color: #008000; text-decoration-color: #008000\">'format'</span>: <span style=\"color: #008000; text-decoration-color: #008000\">'PDF 1.3'</span>,\n",
       "        <span style=\"color: #008000; text-decoration-color: #008000\">'title'</span>: <span style=\"color: #008000; text-decoration-color: #008000\">'Easy recipes'</span>,\n",
       "        <span style=\"color: #008000; text-decoration-color: #008000\">'author'</span>: <span style=\"color: #008000; text-decoration-color: #008000\">'sylvie meynier'</span>,\n",
       "        <span style=\"color: #008000; text-decoration-color: #008000\">'subject'</span>: <span style=\"color: #008000; text-decoration-color: #008000\">''</span>,\n",
       "        <span style=\"color: #008000; text-decoration-color: #008000\">'keywords'</span>: <span style=\"color: #008000; text-decoration-color: #008000\">''</span>,\n",
       "        <span style=\"color: #008000; text-decoration-color: #008000\">'moddate'</span>: <span style=\"color: #008000; text-decoration-color: #008000\">\"D:20100809161642Z00'00'\"</span>,\n",
       "        <span style=\"color: #008000; text-decoration-color: #008000\">'trapped'</span>: <span style=\"color: #008000; text-decoration-color: #008000\">''</span>,\n",
       "        <span style=\"color: #008000; text-decoration-color: #008000\">'page'</span>: <span style=\"color: #008080; text-decoration-color: #008080; font-weight: bold\">0</span>\n",
       "    <span style=\"font-weight: bold\">}</span>,\n",
       "    <span style=\"color: #808000; text-decoration-color: #808000\">page_content</span>=<span style=\"color: #008000; text-decoration-color: #008000\">'Quick and easy recipes Start cooking today You can do it Cooking meals is much cheaper than </span>\n",
       "<span style=\"color: #008000; text-decoration-color: #008000\">eating outside. This is true everywhere but even more in Geneva... Take turns and cook for your roommate and your </span>\n",
       "<span style=\"color: #008000; text-decoration-color: #008000\">friends Youll save even more money and the kitchen will probably stay cleaner... I have selected only a few recipes</span>\n",
       "<span style=\"color: #008000; text-decoration-color: #008000\">from these websites: http://www.studentrecipes.com/ http://www.squidoo.com/studentfoodmodule55467342 Bon apptit'</span>\n",
       "<span style=\"font-weight: bold\">)</span>\n",
       "</pre>\n"
      ],
      "text/plain": [
       "\u001b[1;35mDocument\u001b[0m\u001b[1m(\u001b[0m\n",
       "    \u001b[33mmetadata\u001b[0m=\u001b[1m{\u001b[0m\n",
       "        \u001b[32m'producer'\u001b[0m: \u001b[32m'Mac OS X 10.6.4 Quartz PDFContext'\u001b[0m,\n",
       "        \u001b[32m'creator'\u001b[0m: \u001b[32m'Microsoft Word'\u001b[0m,\n",
       "        \u001b[32m'creationdate'\u001b[0m: \u001b[32m\"D:20100809161642Z00'00'\"\u001b[0m,\n",
       "        \u001b[32m'source'\u001b[0m: \u001b[32m'../data/raw/Easy_recipes.pdf'\u001b[0m,\n",
       "        \u001b[32m'file_path'\u001b[0m: \u001b[32m'../data/raw/Easy_recipes.pdf'\u001b[0m,\n",
       "        \u001b[32m'total_pages'\u001b[0m: \u001b[1;36m15\u001b[0m,\n",
       "        \u001b[32m'format'\u001b[0m: \u001b[32m'PDF 1.3'\u001b[0m,\n",
       "        \u001b[32m'title'\u001b[0m: \u001b[32m'Easy recipes'\u001b[0m,\n",
       "        \u001b[32m'author'\u001b[0m: \u001b[32m'sylvie meynier'\u001b[0m,\n",
       "        \u001b[32m'subject'\u001b[0m: \u001b[32m''\u001b[0m,\n",
       "        \u001b[32m'keywords'\u001b[0m: \u001b[32m''\u001b[0m,\n",
       "        \u001b[32m'moddate'\u001b[0m: \u001b[32m\"D:20100809161642Z00'00'\"\u001b[0m,\n",
       "        \u001b[32m'trapped'\u001b[0m: \u001b[32m''\u001b[0m,\n",
       "        \u001b[32m'page'\u001b[0m: \u001b[1;36m0\u001b[0m\n",
       "    \u001b[1m}\u001b[0m,\n",
       "    \u001b[33mpage_content\u001b[0m=\u001b[32m'Quick and easy recipes Start cooking today You can do it Cooking meals is much cheaper than \u001b[0m\n",
       "\u001b[32meating outside. This is true everywhere but even more in Geneva... Take turns and cook for your roommate and your \u001b[0m\n",
       "\u001b[32mfriends Youll save even more money and the kitchen will probably stay cleaner... I have selected only a few recipes\u001b[0m\n",
       "\u001b[32mfrom these websites: http://www.studentrecipes.com/ http://www.squidoo.com/studentfoodmodule55467342 Bon apptit'\u001b[0m\n",
       "\u001b[1m)\u001b[0m\n"
      ]
     },
     "metadata": {},
     "output_type": "display_data"
    }
   ],
   "source": [
    "print(docs[0])"
   ]
  },
  {
   "cell_type": "code",
   "execution_count": 8,
   "metadata": {},
   "outputs": [],
   "source": [
    "embeddings=AutoTokenizer.from_pretrained(EMBEDDING_MODEL)"
   ]
  },
  {
   "cell_type": "code",
   "execution_count": 9,
   "metadata": {},
   "outputs": [
    {
     "data": {
      "text/html": [
       "<pre style=\"white-space:pre;overflow-x:auto;line-height:normal;font-family:Menlo,'DejaVu Sans Mono',consolas,'Courier New',monospace\">pcsk_7PvMU4_15gJfjME25FYrtL2aWQR9k63AkdNHWynw3ZLXnPJ1kFVggdkLMRpESv5ajdTNfF\n",
       "</pre>\n"
      ],
      "text/plain": [
       "pcsk_7PvMU4_15gJfjME25FYrtL2aWQR9k63AkdNHWynw3ZLXnPJ1kFVggdkLMRpESv5ajdTNfF\n"
      ]
     },
     "metadata": {},
     "output_type": "display_data"
    }
   ],
   "source": [
    "pinecone_api_key = os.environ.get(\"PINECONE_API_KEY\")\n",
    "print(pinecone_api_key)\n",
    "pc = Pinecone(api_key=pinecone_api_key)"
   ]
  },
  {
   "cell_type": "code",
   "execution_count": 10,
   "metadata": {},
   "outputs": [
    {
     "data": {
      "text/html": [
       "<pre style=\"white-space:pre;overflow-x:auto;line-height:normal;font-family:Menlo,'DejaVu Sans Mono',consolas,'Courier New',monospace\"><span style=\"font-weight: bold\">[</span><span style=\"color: #008000; text-decoration-color: #008000\">'test-index-legal'</span><span style=\"font-weight: bold\">]</span>\n",
       "</pre>\n"
      ],
      "text/plain": [
       "\u001b[1m[\u001b[0m\u001b[32m'test-index-legal'\u001b[0m\u001b[1m]\u001b[0m\n"
      ]
     },
     "metadata": {},
     "output_type": "display_data"
    },
    {
     "data": {
      "text/html": [
       "<pre style=\"white-space:pre;overflow-x:auto;line-height:normal;font-family:Menlo,'DejaVu Sans Mono',consolas,'Courier New',monospace\"><span style=\"font-weight: bold\">&lt;</span><span style=\"color: #ff00ff; text-decoration-color: #ff00ff; font-weight: bold\">pinecone.data.index.Index</span><span style=\"color: #000000; text-decoration-color: #000000\"> object at </span><span style=\"color: #008080; text-decoration-color: #008080; font-weight: bold\">0x000001B43A5435B0</span><span style=\"font-weight: bold\">&gt;</span>\n",
       "</pre>\n"
      ],
      "text/plain": [
       "\u001b[1m<\u001b[0m\u001b[1;95mpinecone.data.index.Index\u001b[0m\u001b[39m object at \u001b[0m\u001b[1;36m0x000001B43A5435B0\u001b[0m\u001b[1m>\u001b[0m\n"
      ]
     },
     "metadata": {},
     "output_type": "display_data"
    }
   ],
   "source": [
    "import time\n",
    "\n",
    "index_name = \"test-index-legal\"  # change if desired\n",
    "\n",
    "existing_indexes = [index_info[\"name\"] for index_info in pc.list_indexes()]\n",
    "print(existing_indexes)\n",
    "\n",
    "if index_name not in existing_indexes:\n",
    "    pc.create_index(\n",
    "        name=index_name,\n",
    "        dimension=3072,\n",
    "        metric=\"cosine\",\n",
    "        spec=ServerlessSpec(cloud=\"aws\", region=\"us-east-1\"),\n",
    "    )\n",
    "    while not pc.describe_index(index_name).status[\"ready\"]:\n",
    "        time.sleep(1)\n",
    "\n",
    "index = pc.Index(index_name)\n",
    "print(index)"
   ]
  },
  {
   "cell_type": "code",
   "execution_count": 11,
   "metadata": {},
   "outputs": [
    {
     "ename": "TypeError",
     "evalue": "Index.upsert() missing 1 required positional argument: 'vectors'",
     "output_type": "error",
     "traceback": [
      "\u001b[1;31m---------------------------------------------------------------------------\u001b[0m",
      "\u001b[1;31mTypeError\u001b[0m                                 Traceback (most recent call last)",
      "Cell \u001b[1;32mIn[11], line 1\u001b[0m\n\u001b[1;32m----> 1\u001b[0m \u001b[43mindex\u001b[49m\u001b[38;5;241;43m.\u001b[39;49m\u001b[43mupsert\u001b[49m\u001b[43m(\u001b[49m\u001b[43mitems\u001b[49m\u001b[38;5;241;43m=\u001b[39;49m\u001b[43mdocs\u001b[49m\u001b[43m)\u001b[49m\n",
      "File \u001b[1;32mc:\\Users\\naran\\anaconda3\\envs\\legal_env\\lib\\site-packages\\pinecone\\utils\\error_handling.py:11\u001b[0m, in \u001b[0;36mvalidate_and_convert_errors.<locals>.inner_func\u001b[1;34m(*args, **kwargs)\u001b[0m\n\u001b[0;32m      8\u001b[0m \u001b[38;5;129m@wraps\u001b[39m(func)\n\u001b[0;32m      9\u001b[0m \u001b[38;5;28;01mdef\u001b[39;00m \u001b[38;5;21minner_func\u001b[39m(\u001b[38;5;241m*\u001b[39margs, \u001b[38;5;241m*\u001b[39m\u001b[38;5;241m*\u001b[39mkwargs):\n\u001b[0;32m     10\u001b[0m     \u001b[38;5;28;01mtry\u001b[39;00m:\n\u001b[1;32m---> 11\u001b[0m         \u001b[38;5;28;01mreturn\u001b[39;00m func(\u001b[38;5;241m*\u001b[39margs, \u001b[38;5;241m*\u001b[39m\u001b[38;5;241m*\u001b[39mkwargs)\n\u001b[0;32m     12\u001b[0m     \u001b[38;5;28;01mexcept\u001b[39;00m MaxRetryError \u001b[38;5;28;01mas\u001b[39;00m e:\n\u001b[0;32m     13\u001b[0m         \u001b[38;5;28;01mif\u001b[39;00m \u001b[38;5;28misinstance\u001b[39m(e\u001b[38;5;241m.\u001b[39mreason, ProtocolError):\n",
      "\u001b[1;31mTypeError\u001b[0m: Index.upsert() missing 1 required positional argument: 'vectors'"
     ]
    }
   ],
   "source": [
    "index.upsert(items=docs)\n"
   ]
  },
  {
   "cell_type": "code",
   "execution_count": null,
   "metadata": {},
   "outputs": [],
   "source": [
    "\n"
   ]
  },
  {
   "cell_type": "code",
   "execution_count": null,
   "metadata": {},
   "outputs": [],
   "source": []
  }
 ],
 "metadata": {
  "kernelspec": {
   "display_name": "legal_env",
   "language": "python",
   "name": "python3"
  },
  "language_info": {
   "codemirror_mode": {
    "name": "ipython",
    "version": 3
   },
   "file_extension": ".py",
   "mimetype": "text/x-python",
   "name": "python",
   "nbconvert_exporter": "python",
   "pygments_lexer": "ipython3",
   "version": "3.10.16"
  }
 },
 "nbformat": 4,
 "nbformat_minor": 2
}
